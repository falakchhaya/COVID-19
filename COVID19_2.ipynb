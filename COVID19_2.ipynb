{
  "nbformat": 4,
  "nbformat_minor": 0,
  "metadata": {
    "colab": {
      "name": "COVID19_2",
      "provenance": [],
      "collapsed_sections": [],
      "authorship_tag": "ABX9TyPhUfX5a8LJqh7uTMcQpLgm",
      "include_colab_link": true
    },
    "kernelspec": {
      "name": "python3",
      "display_name": "Python 3"
    }
  },
  "cells": [
    {
      "cell_type": "markdown",
      "metadata": {
        "id": "view-in-github",
        "colab_type": "text"
      },
      "source": [
        "<a href=\"https://colab.research.google.com/github/falakchhaya/COVID-19/blob/master/COVID19_2.ipynb\" target=\"_parent\"><img src=\"https://colab.research.google.com/assets/colab-badge.svg\" alt=\"Open In Colab\"/></a>"
      ]
    },
    {
      "cell_type": "code",
      "metadata": {
        "id": "J8SQnoMnzFR5",
        "colab_type": "code",
        "outputId": "1331514b-1b44-4d3c-d637-6bd09a16b666",
        "colab": {
          "base_uri": "https://localhost:8080/",
          "height": 190
        }
      },
      "source": [
        "!pip install COVID19Py"
      ],
      "execution_count": 1,
      "outputs": [
        {
          "output_type": "stream",
          "text": [
            "Collecting COVID19Py\n",
            "  Downloading https://files.pythonhosted.org/packages/d2/e5/d8129426769328cc19d939c7ccb9cb774a79de92cb093bec65f3dc81eb75/COVID19Py-0.3.0.tar.gz\n",
            "Building wheels for collected packages: COVID19Py\n",
            "  Building wheel for COVID19Py (setup.py) ... \u001b[?25l\u001b[?25hdone\n",
            "  Created wheel for COVID19Py: filename=COVID19Py-0.3.0-cp36-none-any.whl size=4719 sha256=f1e8c47f393b3f8205383d696f701d4131be58ec61e769883c7e1be2b5e5d791\n",
            "  Stored in directory: /root/.cache/pip/wheels/23/78/50/78aaca989f422d636b01b9c55cd5e327fef838e973690f886c\n",
            "Successfully built COVID19Py\n",
            "Installing collected packages: COVID19Py\n",
            "Successfully installed COVID19Py-0.3.0\n"
          ],
          "name": "stdout"
        }
      ]
    },
    {
      "cell_type": "code",
      "metadata": {
        "id": "BAtoAYPz0BEy",
        "colab_type": "code",
        "colab": {}
      },
      "source": [
        "import COVID19Py"
      ],
      "execution_count": 0,
      "outputs": []
    },
    {
      "cell_type": "code",
      "metadata": {
        "id": "DRjneeKe0H6j",
        "colab_type": "code",
        "colab": {}
      },
      "source": [
        "covid = COVID19Py.COVID19()"
      ],
      "execution_count": 0,
      "outputs": []
    },
    {
      "cell_type": "code",
      "metadata": {
        "id": "DyAFR6Mxdztp",
        "colab_type": "code",
        "outputId": "46d1106c-5d16-4b3c-c0b6-cc680bde02a6",
        "colab": {
          "base_uri": "https://localhost:8080/",
          "height": 887
        }
      },
      "source": [
        "type(covid)\n",
        "help(covid)\n"
      ],
      "execution_count": 4,
      "outputs": [
        {
          "output_type": "stream",
          "text": [
            "Help on COVID19 in module COVID19Py.covid19 object:\n",
            "\n",
            "class COVID19(builtins.object)\n",
            " |  Methods defined here:\n",
            " |  \n",
            " |  __init__(self, url='https://coronavirus-tracker-api.herokuapp.com', data_source='jhu')\n",
            " |      Initialize self.  See help(type(self)) for accurate signature.\n",
            " |  \n",
            " |  getAll(self, timelines=False)\n",
            " |  \n",
            " |  getLatest(self) -> List[Dict[str, int]]\n",
            " |      :return: The latest amount of total confirmed cases, deaths, and recoveries.\n",
            " |  \n",
            " |  getLatestChanges(self)\n",
            " |  \n",
            " |  getLocationByCountryCode(self, country_code, timelines=False) -> List[Dict]\n",
            " |      :param country_code: String denoting the ISO 3166-1 alpha-2 code (https://en.wikipedia.org/wiki/ISO_3166-1_alpha-2) of the country\n",
            " |      :param timelines: Whether timeline information should be returned as well.\n",
            " |      :return: A list of areas that correspond to the country_code. If the country_code is invalid, it returns an empty list.\n",
            " |  \n",
            " |  getLocationById(self, country_id:int)\n",
            " |      :param country_id: Country Id, an int\n",
            " |      :return: A dictionary with case information for the specified location.\n",
            " |  \n",
            " |  getLocations(self, timelines=False, rank_by:str=None) -> List[Dict]\n",
            " |      Gets all locations affected by COVID-19, as well as latest case data.\n",
            " |      :param timelines: Whether timeline information should be returned as well.\n",
            " |      :param rank_by: Category to rank results by. ex: confirmed\n",
            " |      :return: List of dictionaries representing all affected locations.\n",
            " |  \n",
            " |  ----------------------------------------------------------------------\n",
            " |  Data descriptors defined here:\n",
            " |  \n",
            " |  __dict__\n",
            " |      dictionary for instance variables (if defined)\n",
            " |  \n",
            " |  __weakref__\n",
            " |      list of weak references to the object (if defined)\n",
            " |  \n",
            " |  ----------------------------------------------------------------------\n",
            " |  Data and other attributes defined here:\n",
            " |  \n",
            " |  data_source = ''\n",
            " |  \n",
            " |  latestData = None\n",
            " |  \n",
            " |  previousData = None\n",
            " |  \n",
            " |  url = ''\n",
            "\n"
          ],
          "name": "stdout"
        }
      ]
    },
    {
      "cell_type": "markdown",
      "metadata": {
        "id": "0mZOcJd0n0cC",
        "colab_type": "text"
      },
      "source": [
        "#Important Summary\n",
        "\n",
        "Here type(covid) doesn't help much, so help(covid) would come to rescue in case there is no autocomplete available.<br><br>\n",
        "Now, thanks to auto-complete, there are a few functions that you can use on \"covid\". Two of the important ones are<br>\n",
        "(1) get all data (with or without timeline) <br>\n",
        "(2) get data by country code \n",
        "<br>\n",
        "I've tried these two options below\n"
      ]
    },
    {
      "cell_type": "markdown",
      "metadata": {
        "id": "IfN5iqB2QGpa",
        "colab_type": "text"
      },
      "source": [
        "------ Option - 1 <br>\n",
        "Trying to get all the data"
      ]
    },
    {
      "cell_type": "code",
      "metadata": {
        "id": "NZoNxvVD0Phk",
        "colab_type": "code",
        "colab": {}
      },
      "source": [
        "allData = covid.getAll(timelines=True)"
      ],
      "execution_count": 0,
      "outputs": []
    },
    {
      "cell_type": "code",
      "metadata": {
        "id": "bNYDTRZL0c_a",
        "colab_type": "code",
        "outputId": "2ab81391-ca49-4b6a-bc56-535e657fa67d",
        "colab": {
          "base_uri": "https://localhost:8080/",
          "height": 34
        }
      },
      "source": [
        "type(allData)"
      ],
      "execution_count": 6,
      "outputs": [
        {
          "output_type": "execute_result",
          "data": {
            "text/plain": [
              "dict"
            ]
          },
          "metadata": {
            "tags": []
          },
          "execution_count": 6
        }
      ]
    },
    {
      "cell_type": "code",
      "metadata": {
        "id": "H3xmPLrI1HXR",
        "colab_type": "code",
        "outputId": "dd690c9f-69bb-4f49-f5ca-0b536996c411",
        "colab": {
          "base_uri": "https://localhost:8080/",
          "height": 34
        }
      },
      "source": [
        "allData.keys()"
      ],
      "execution_count": 7,
      "outputs": [
        {
          "output_type": "execute_result",
          "data": {
            "text/plain": [
              "dict_keys(['latest', 'locations'])"
            ]
          },
          "metadata": {
            "tags": []
          },
          "execution_count": 7
        }
      ]
    },
    {
      "cell_type": "code",
      "metadata": {
        "id": "xrW1-3CO1VDV",
        "colab_type": "code",
        "outputId": "6c4e2a1c-01b1-457c-beba-75c1a3935afb",
        "colab": {
          "base_uri": "https://localhost:8080/",
          "height": 34
        }
      },
      "source": [
        "allData.items()\n",
        "latest = allData['latest']\n",
        "type(latest)\n",
        "len(latest)\n",
        "latest.keys()\n"
      ],
      "execution_count": 8,
      "outputs": [
        {
          "output_type": "execute_result",
          "data": {
            "text/plain": [
              "dict_keys(['confirmed', 'deaths', 'recovered'])"
            ]
          },
          "metadata": {
            "tags": []
          },
          "execution_count": 8
        }
      ]
    },
    {
      "cell_type": "code",
      "metadata": {
        "id": "nZhUG8QucLqw",
        "colab_type": "code",
        "outputId": "b38e8a6b-2816-41b8-b4fa-bcd1ab38af43",
        "colab": {
          "base_uri": "https://localhost:8080/",
          "height": 34
        }
      },
      "source": [
        "latest['confirmed'];\n",
        "latest['deaths']\n",
        "latest['recovered']\n"
      ],
      "execution_count": 9,
      "outputs": [
        {
          "output_type": "execute_result",
          "data": {
            "text/plain": [
              "0"
            ]
          },
          "metadata": {
            "tags": []
          },
          "execution_count": 9
        }
      ]
    },
    {
      "cell_type": "markdown",
      "metadata": {
        "id": "8vs_2IRMcek9",
        "colab_type": "text"
      },
      "source": [
        "\n",
        "\n",
        "# Important Summary\n",
        "In allData, there are two keys. <br>\n",
        "\n",
        "'latest' and 'locations'.  <br><br>\n",
        "\n",
        "'latest' is a dictionary with 3 keys which gives single values of confirmed cases, deaths and recovered cases, that simple.\n",
        "<br> \n",
        "\n",
        "'locations' is a list (length - 264) of dictionary where each element of the list contains complete data of a country/province including latest data and timelines. (it comes right after this block)\n"
      ]
    },
    {
      "cell_type": "code",
      "metadata": {
        "id": "Hd-jRKUm1cNA",
        "colab_type": "code",
        "colab": {}
      },
      "source": [
        "locations = allData['locations']"
      ],
      "execution_count": 0,
      "outputs": []
    },
    {
      "cell_type": "code",
      "metadata": {
        "id": "BVBPeMBB3FPS",
        "colab_type": "code",
        "outputId": "bdca326d-0aa8-4fb9-f259-fdcf2d5d8b2a",
        "colab": {
          "base_uri": "https://localhost:8080/",
          "height": 34
        }
      },
      "source": [
        "type(locations)"
      ],
      "execution_count": 11,
      "outputs": [
        {
          "output_type": "execute_result",
          "data": {
            "text/plain": [
              "list"
            ]
          },
          "metadata": {
            "tags": []
          },
          "execution_count": 11
        }
      ]
    },
    {
      "cell_type": "code",
      "metadata": {
        "id": "Iw9U0rTs3HA5",
        "colab_type": "code",
        "outputId": "bf2740af-0193-4459-a3a2-3cc7e3c7a089",
        "colab": {
          "base_uri": "https://localhost:8080/",
          "height": 34
        }
      },
      "source": [
        "len(locations)\n"
      ],
      "execution_count": 12,
      "outputs": [
        {
          "output_type": "execute_result",
          "data": {
            "text/plain": [
              "264"
            ]
          },
          "metadata": {
            "tags": []
          },
          "execution_count": 12
        }
      ]
    },
    {
      "cell_type": "code",
      "metadata": {
        "id": "C6pd6Dka3eBR",
        "colab_type": "code",
        "outputId": "11650c21-3ac2-4c81-ccdb-89c38e03e6c5",
        "colab": {
          "base_uri": "https://localhost:8080/",
          "height": 34
        }
      },
      "source": [
        "type(locations[0])"
      ],
      "execution_count": 13,
      "outputs": [
        {
          "output_type": "execute_result",
          "data": {
            "text/plain": [
              "dict"
            ]
          },
          "metadata": {
            "tags": []
          },
          "execution_count": 13
        }
      ]
    },
    {
      "cell_type": "code",
      "metadata": {
        "id": "-HykR0WZ6EkR",
        "colab_type": "code",
        "outputId": "9eb7307f-9e75-4a20-d240-1d64e0f392dd",
        "colab": {
          "base_uri": "https://localhost:8080/",
          "height": 34
        }
      },
      "source": [
        "locations[0].keys()"
      ],
      "execution_count": 14,
      "outputs": [
        {
          "output_type": "execute_result",
          "data": {
            "text/plain": [
              "dict_keys(['id', 'country', 'country_code', 'country_population', 'province', 'last_updated', 'coordinates', 'latest', 'timelines'])"
            ]
          },
          "metadata": {
            "tags": []
          },
          "execution_count": 14
        }
      ]
    },
    {
      "cell_type": "code",
      "metadata": {
        "id": "zID-l1XyBdGe",
        "colab_type": "code",
        "outputId": "b844edcd-8a62-41bf-ce12-93cf7f76bc38",
        "colab": {
          "base_uri": "https://localhost:8080/",
          "height": 541
        }
      },
      "source": [
        "# Trying to get the data directly to the Pandas data frame\n",
        "\n",
        "import pandas as pd\n",
        "\n",
        "##df = pd.DataFrame.from_dict(locations[0])\n",
        "df = pd.DataFrame(data=locations)#,index=array)\n",
        "\n",
        "\n",
        "#df = pd.DataFrame.from_dict(locations[0]) #,orient='index')\n",
        "print(\"df.shape is \" + str(df.shape))\n",
        "print(\"df.keys are \" + str(df.keys()))\n",
        "df.head()\n",
        "df['timelines'][0]\n",
        "#df[0][1][6]\n",
        "\n",
        "#This seems to be the solution. We have to add these columns to the main dataframe and we are sorted ! FPC\n",
        "# This should work fine for say coordinates but for timelines, we might need to see how exactly is time series data stored normally.\n",
        "pd.io.json.json_normalize(df['timelines'])"
      ],
      "execution_count": 15,
      "outputs": [
        {
          "output_type": "stream",
          "text": [
            "df.shape is (264, 9)\n",
            "df.keys are Index(['id', 'country', 'country_code', 'country_population', 'province',\n",
            "       'last_updated', 'coordinates', 'latest', 'timelines'],\n",
            "      dtype='object')\n"
          ],
          "name": "stdout"
        },
        {
          "output_type": "stream",
          "text": [
            "/usr/local/lib/python3.6/dist-packages/ipykernel_launcher.py:17: FutureWarning: pandas.io.json.json_normalize is deprecated, use pandas.json_normalize instead\n"
          ],
          "name": "stderr"
        },
        {
          "output_type": "execute_result",
          "data": {
            "text/html": [
              "<div>\n",
              "<style scoped>\n",
              "    .dataframe tbody tr th:only-of-type {\n",
              "        vertical-align: middle;\n",
              "    }\n",
              "\n",
              "    .dataframe tbody tr th {\n",
              "        vertical-align: top;\n",
              "    }\n",
              "\n",
              "    .dataframe thead th {\n",
              "        text-align: right;\n",
              "    }\n",
              "</style>\n",
              "<table border=\"1\" class=\"dataframe\">\n",
              "  <thead>\n",
              "    <tr style=\"text-align: right;\">\n",
              "      <th></th>\n",
              "      <th>confirmed.latest</th>\n",
              "      <th>confirmed.timeline.2020-01-22T00:00:00Z</th>\n",
              "      <th>confirmed.timeline.2020-01-23T00:00:00Z</th>\n",
              "      <th>confirmed.timeline.2020-01-24T00:00:00Z</th>\n",
              "      <th>confirmed.timeline.2020-01-25T00:00:00Z</th>\n",
              "      <th>confirmed.timeline.2020-01-26T00:00:00Z</th>\n",
              "      <th>confirmed.timeline.2020-01-27T00:00:00Z</th>\n",
              "      <th>confirmed.timeline.2020-01-28T00:00:00Z</th>\n",
              "      <th>confirmed.timeline.2020-01-29T00:00:00Z</th>\n",
              "      <th>confirmed.timeline.2020-01-30T00:00:00Z</th>\n",
              "      <th>confirmed.timeline.2020-01-31T00:00:00Z</th>\n",
              "      <th>confirmed.timeline.2020-02-01T00:00:00Z</th>\n",
              "      <th>confirmed.timeline.2020-02-02T00:00:00Z</th>\n",
              "      <th>confirmed.timeline.2020-02-03T00:00:00Z</th>\n",
              "      <th>confirmed.timeline.2020-02-04T00:00:00Z</th>\n",
              "      <th>confirmed.timeline.2020-02-05T00:00:00Z</th>\n",
              "      <th>confirmed.timeline.2020-02-06T00:00:00Z</th>\n",
              "      <th>confirmed.timeline.2020-02-07T00:00:00Z</th>\n",
              "      <th>confirmed.timeline.2020-02-08T00:00:00Z</th>\n",
              "      <th>confirmed.timeline.2020-02-09T00:00:00Z</th>\n",
              "      <th>confirmed.timeline.2020-02-10T00:00:00Z</th>\n",
              "      <th>confirmed.timeline.2020-02-11T00:00:00Z</th>\n",
              "      <th>confirmed.timeline.2020-02-12T00:00:00Z</th>\n",
              "      <th>confirmed.timeline.2020-02-13T00:00:00Z</th>\n",
              "      <th>confirmed.timeline.2020-02-14T00:00:00Z</th>\n",
              "      <th>confirmed.timeline.2020-02-15T00:00:00Z</th>\n",
              "      <th>confirmed.timeline.2020-02-16T00:00:00Z</th>\n",
              "      <th>confirmed.timeline.2020-02-17T00:00:00Z</th>\n",
              "      <th>confirmed.timeline.2020-02-18T00:00:00Z</th>\n",
              "      <th>confirmed.timeline.2020-02-19T00:00:00Z</th>\n",
              "      <th>confirmed.timeline.2020-02-20T00:00:00Z</th>\n",
              "      <th>confirmed.timeline.2020-02-21T00:00:00Z</th>\n",
              "      <th>confirmed.timeline.2020-02-22T00:00:00Z</th>\n",
              "      <th>confirmed.timeline.2020-02-23T00:00:00Z</th>\n",
              "      <th>confirmed.timeline.2020-02-24T00:00:00Z</th>\n",
              "      <th>confirmed.timeline.2020-02-25T00:00:00Z</th>\n",
              "      <th>confirmed.timeline.2020-02-26T00:00:00Z</th>\n",
              "      <th>confirmed.timeline.2020-02-27T00:00:00Z</th>\n",
              "      <th>confirmed.timeline.2020-02-28T00:00:00Z</th>\n",
              "      <th>confirmed.timeline.2020-02-29T00:00:00Z</th>\n",
              "      <th>...</th>\n",
              "      <th>deaths.timeline.2020-03-06T00:00:00Z</th>\n",
              "      <th>deaths.timeline.2020-03-07T00:00:00Z</th>\n",
              "      <th>deaths.timeline.2020-03-08T00:00:00Z</th>\n",
              "      <th>deaths.timeline.2020-03-09T00:00:00Z</th>\n",
              "      <th>deaths.timeline.2020-03-10T00:00:00Z</th>\n",
              "      <th>deaths.timeline.2020-03-11T00:00:00Z</th>\n",
              "      <th>deaths.timeline.2020-03-12T00:00:00Z</th>\n",
              "      <th>deaths.timeline.2020-03-13T00:00:00Z</th>\n",
              "      <th>deaths.timeline.2020-03-14T00:00:00Z</th>\n",
              "      <th>deaths.timeline.2020-03-15T00:00:00Z</th>\n",
              "      <th>deaths.timeline.2020-03-16T00:00:00Z</th>\n",
              "      <th>deaths.timeline.2020-03-17T00:00:00Z</th>\n",
              "      <th>deaths.timeline.2020-03-18T00:00:00Z</th>\n",
              "      <th>deaths.timeline.2020-03-19T00:00:00Z</th>\n",
              "      <th>deaths.timeline.2020-03-20T00:00:00Z</th>\n",
              "      <th>deaths.timeline.2020-03-21T00:00:00Z</th>\n",
              "      <th>deaths.timeline.2020-03-22T00:00:00Z</th>\n",
              "      <th>deaths.timeline.2020-03-23T00:00:00Z</th>\n",
              "      <th>deaths.timeline.2020-03-24T00:00:00Z</th>\n",
              "      <th>deaths.timeline.2020-03-25T00:00:00Z</th>\n",
              "      <th>deaths.timeline.2020-03-26T00:00:00Z</th>\n",
              "      <th>deaths.timeline.2020-03-27T00:00:00Z</th>\n",
              "      <th>deaths.timeline.2020-03-28T00:00:00Z</th>\n",
              "      <th>deaths.timeline.2020-03-29T00:00:00Z</th>\n",
              "      <th>deaths.timeline.2020-03-30T00:00:00Z</th>\n",
              "      <th>deaths.timeline.2020-03-31T00:00:00Z</th>\n",
              "      <th>deaths.timeline.2020-04-01T00:00:00Z</th>\n",
              "      <th>deaths.timeline.2020-04-02T00:00:00Z</th>\n",
              "      <th>deaths.timeline.2020-04-03T00:00:00Z</th>\n",
              "      <th>deaths.timeline.2020-04-04T00:00:00Z</th>\n",
              "      <th>deaths.timeline.2020-04-05T00:00:00Z</th>\n",
              "      <th>deaths.timeline.2020-04-06T00:00:00Z</th>\n",
              "      <th>deaths.timeline.2020-04-07T00:00:00Z</th>\n",
              "      <th>deaths.timeline.2020-04-08T00:00:00Z</th>\n",
              "      <th>deaths.timeline.2020-04-09T00:00:00Z</th>\n",
              "      <th>deaths.timeline.2020-04-10T00:00:00Z</th>\n",
              "      <th>deaths.timeline.2020-04-11T00:00:00Z</th>\n",
              "      <th>deaths.timeline.2020-04-12T00:00:00Z</th>\n",
              "      <th>deaths.timeline.2020-04-13T00:00:00Z</th>\n",
              "      <th>recovered.latest</th>\n",
              "    </tr>\n",
              "  </thead>\n",
              "  <tbody>\n",
              "    <tr>\n",
              "      <th>0</th>\n",
              "      <td>665</td>\n",
              "      <td>0</td>\n",
              "      <td>0</td>\n",
              "      <td>0</td>\n",
              "      <td>0</td>\n",
              "      <td>0</td>\n",
              "      <td>0</td>\n",
              "      <td>0</td>\n",
              "      <td>0</td>\n",
              "      <td>0</td>\n",
              "      <td>0</td>\n",
              "      <td>0</td>\n",
              "      <td>0</td>\n",
              "      <td>0</td>\n",
              "      <td>0</td>\n",
              "      <td>0</td>\n",
              "      <td>0</td>\n",
              "      <td>0</td>\n",
              "      <td>0</td>\n",
              "      <td>0</td>\n",
              "      <td>0</td>\n",
              "      <td>0</td>\n",
              "      <td>0</td>\n",
              "      <td>0</td>\n",
              "      <td>0</td>\n",
              "      <td>0</td>\n",
              "      <td>0</td>\n",
              "      <td>0</td>\n",
              "      <td>0</td>\n",
              "      <td>0</td>\n",
              "      <td>0</td>\n",
              "      <td>0</td>\n",
              "      <td>0</td>\n",
              "      <td>0</td>\n",
              "      <td>1</td>\n",
              "      <td>1</td>\n",
              "      <td>1</td>\n",
              "      <td>1</td>\n",
              "      <td>1</td>\n",
              "      <td>1</td>\n",
              "      <td>...</td>\n",
              "      <td>0</td>\n",
              "      <td>0</td>\n",
              "      <td>0</td>\n",
              "      <td>0</td>\n",
              "      <td>0</td>\n",
              "      <td>0</td>\n",
              "      <td>0</td>\n",
              "      <td>0</td>\n",
              "      <td>0</td>\n",
              "      <td>0</td>\n",
              "      <td>0</td>\n",
              "      <td>0</td>\n",
              "      <td>0</td>\n",
              "      <td>0</td>\n",
              "      <td>0</td>\n",
              "      <td>0</td>\n",
              "      <td>1</td>\n",
              "      <td>1</td>\n",
              "      <td>1</td>\n",
              "      <td>2</td>\n",
              "      <td>4</td>\n",
              "      <td>4</td>\n",
              "      <td>4</td>\n",
              "      <td>4</td>\n",
              "      <td>4</td>\n",
              "      <td>4</td>\n",
              "      <td>4</td>\n",
              "      <td>6</td>\n",
              "      <td>6</td>\n",
              "      <td>7</td>\n",
              "      <td>7</td>\n",
              "      <td>11</td>\n",
              "      <td>14</td>\n",
              "      <td>14</td>\n",
              "      <td>15</td>\n",
              "      <td>15</td>\n",
              "      <td>18</td>\n",
              "      <td>18</td>\n",
              "      <td>21</td>\n",
              "      <td>0</td>\n",
              "    </tr>\n",
              "    <tr>\n",
              "      <th>1</th>\n",
              "      <td>467</td>\n",
              "      <td>0</td>\n",
              "      <td>0</td>\n",
              "      <td>0</td>\n",
              "      <td>0</td>\n",
              "      <td>0</td>\n",
              "      <td>0</td>\n",
              "      <td>0</td>\n",
              "      <td>0</td>\n",
              "      <td>0</td>\n",
              "      <td>0</td>\n",
              "      <td>0</td>\n",
              "      <td>0</td>\n",
              "      <td>0</td>\n",
              "      <td>0</td>\n",
              "      <td>0</td>\n",
              "      <td>0</td>\n",
              "      <td>0</td>\n",
              "      <td>0</td>\n",
              "      <td>0</td>\n",
              "      <td>0</td>\n",
              "      <td>0</td>\n",
              "      <td>0</td>\n",
              "      <td>0</td>\n",
              "      <td>0</td>\n",
              "      <td>0</td>\n",
              "      <td>0</td>\n",
              "      <td>0</td>\n",
              "      <td>0</td>\n",
              "      <td>0</td>\n",
              "      <td>0</td>\n",
              "      <td>0</td>\n",
              "      <td>0</td>\n",
              "      <td>0</td>\n",
              "      <td>0</td>\n",
              "      <td>0</td>\n",
              "      <td>0</td>\n",
              "      <td>0</td>\n",
              "      <td>0</td>\n",
              "      <td>0</td>\n",
              "      <td>...</td>\n",
              "      <td>0</td>\n",
              "      <td>0</td>\n",
              "      <td>0</td>\n",
              "      <td>0</td>\n",
              "      <td>0</td>\n",
              "      <td>1</td>\n",
              "      <td>1</td>\n",
              "      <td>1</td>\n",
              "      <td>1</td>\n",
              "      <td>1</td>\n",
              "      <td>1</td>\n",
              "      <td>1</td>\n",
              "      <td>2</td>\n",
              "      <td>2</td>\n",
              "      <td>2</td>\n",
              "      <td>2</td>\n",
              "      <td>2</td>\n",
              "      <td>4</td>\n",
              "      <td>5</td>\n",
              "      <td>5</td>\n",
              "      <td>6</td>\n",
              "      <td>8</td>\n",
              "      <td>10</td>\n",
              "      <td>10</td>\n",
              "      <td>11</td>\n",
              "      <td>15</td>\n",
              "      <td>15</td>\n",
              "      <td>16</td>\n",
              "      <td>17</td>\n",
              "      <td>20</td>\n",
              "      <td>20</td>\n",
              "      <td>21</td>\n",
              "      <td>22</td>\n",
              "      <td>22</td>\n",
              "      <td>23</td>\n",
              "      <td>23</td>\n",
              "      <td>23</td>\n",
              "      <td>23</td>\n",
              "      <td>23</td>\n",
              "      <td>0</td>\n",
              "    </tr>\n",
              "    <tr>\n",
              "      <th>2</th>\n",
              "      <td>1983</td>\n",
              "      <td>0</td>\n",
              "      <td>0</td>\n",
              "      <td>0</td>\n",
              "      <td>0</td>\n",
              "      <td>0</td>\n",
              "      <td>0</td>\n",
              "      <td>0</td>\n",
              "      <td>0</td>\n",
              "      <td>0</td>\n",
              "      <td>0</td>\n",
              "      <td>0</td>\n",
              "      <td>0</td>\n",
              "      <td>0</td>\n",
              "      <td>0</td>\n",
              "      <td>0</td>\n",
              "      <td>0</td>\n",
              "      <td>0</td>\n",
              "      <td>0</td>\n",
              "      <td>0</td>\n",
              "      <td>0</td>\n",
              "      <td>0</td>\n",
              "      <td>0</td>\n",
              "      <td>0</td>\n",
              "      <td>0</td>\n",
              "      <td>0</td>\n",
              "      <td>0</td>\n",
              "      <td>0</td>\n",
              "      <td>0</td>\n",
              "      <td>0</td>\n",
              "      <td>0</td>\n",
              "      <td>0</td>\n",
              "      <td>0</td>\n",
              "      <td>0</td>\n",
              "      <td>0</td>\n",
              "      <td>1</td>\n",
              "      <td>1</td>\n",
              "      <td>1</td>\n",
              "      <td>1</td>\n",
              "      <td>1</td>\n",
              "      <td>...</td>\n",
              "      <td>0</td>\n",
              "      <td>0</td>\n",
              "      <td>0</td>\n",
              "      <td>0</td>\n",
              "      <td>0</td>\n",
              "      <td>0</td>\n",
              "      <td>1</td>\n",
              "      <td>2</td>\n",
              "      <td>3</td>\n",
              "      <td>4</td>\n",
              "      <td>4</td>\n",
              "      <td>4</td>\n",
              "      <td>7</td>\n",
              "      <td>9</td>\n",
              "      <td>11</td>\n",
              "      <td>15</td>\n",
              "      <td>17</td>\n",
              "      <td>17</td>\n",
              "      <td>19</td>\n",
              "      <td>21</td>\n",
              "      <td>25</td>\n",
              "      <td>26</td>\n",
              "      <td>29</td>\n",
              "      <td>31</td>\n",
              "      <td>35</td>\n",
              "      <td>44</td>\n",
              "      <td>58</td>\n",
              "      <td>86</td>\n",
              "      <td>105</td>\n",
              "      <td>130</td>\n",
              "      <td>152</td>\n",
              "      <td>173</td>\n",
              "      <td>193</td>\n",
              "      <td>205</td>\n",
              "      <td>235</td>\n",
              "      <td>256</td>\n",
              "      <td>275</td>\n",
              "      <td>293</td>\n",
              "      <td>313</td>\n",
              "      <td>0</td>\n",
              "    </tr>\n",
              "    <tr>\n",
              "      <th>3</th>\n",
              "      <td>646</td>\n",
              "      <td>0</td>\n",
              "      <td>0</td>\n",
              "      <td>0</td>\n",
              "      <td>0</td>\n",
              "      <td>0</td>\n",
              "      <td>0</td>\n",
              "      <td>0</td>\n",
              "      <td>0</td>\n",
              "      <td>0</td>\n",
              "      <td>0</td>\n",
              "      <td>0</td>\n",
              "      <td>0</td>\n",
              "      <td>0</td>\n",
              "      <td>0</td>\n",
              "      <td>0</td>\n",
              "      <td>0</td>\n",
              "      <td>0</td>\n",
              "      <td>0</td>\n",
              "      <td>0</td>\n",
              "      <td>0</td>\n",
              "      <td>0</td>\n",
              "      <td>0</td>\n",
              "      <td>0</td>\n",
              "      <td>0</td>\n",
              "      <td>0</td>\n",
              "      <td>0</td>\n",
              "      <td>0</td>\n",
              "      <td>0</td>\n",
              "      <td>0</td>\n",
              "      <td>0</td>\n",
              "      <td>0</td>\n",
              "      <td>0</td>\n",
              "      <td>0</td>\n",
              "      <td>0</td>\n",
              "      <td>0</td>\n",
              "      <td>0</td>\n",
              "      <td>0</td>\n",
              "      <td>0</td>\n",
              "      <td>0</td>\n",
              "      <td>...</td>\n",
              "      <td>0</td>\n",
              "      <td>0</td>\n",
              "      <td>0</td>\n",
              "      <td>0</td>\n",
              "      <td>0</td>\n",
              "      <td>0</td>\n",
              "      <td>0</td>\n",
              "      <td>0</td>\n",
              "      <td>0</td>\n",
              "      <td>0</td>\n",
              "      <td>0</td>\n",
              "      <td>0</td>\n",
              "      <td>0</td>\n",
              "      <td>0</td>\n",
              "      <td>0</td>\n",
              "      <td>0</td>\n",
              "      <td>1</td>\n",
              "      <td>1</td>\n",
              "      <td>1</td>\n",
              "      <td>1</td>\n",
              "      <td>3</td>\n",
              "      <td>3</td>\n",
              "      <td>3</td>\n",
              "      <td>6</td>\n",
              "      <td>8</td>\n",
              "      <td>12</td>\n",
              "      <td>14</td>\n",
              "      <td>15</td>\n",
              "      <td>16</td>\n",
              "      <td>17</td>\n",
              "      <td>18</td>\n",
              "      <td>21</td>\n",
              "      <td>22</td>\n",
              "      <td>23</td>\n",
              "      <td>25</td>\n",
              "      <td>26</td>\n",
              "      <td>26</td>\n",
              "      <td>29</td>\n",
              "      <td>29</td>\n",
              "      <td>0</td>\n",
              "    </tr>\n",
              "    <tr>\n",
              "      <th>4</th>\n",
              "      <td>19</td>\n",
              "      <td>0</td>\n",
              "      <td>0</td>\n",
              "      <td>0</td>\n",
              "      <td>0</td>\n",
              "      <td>0</td>\n",
              "      <td>0</td>\n",
              "      <td>0</td>\n",
              "      <td>0</td>\n",
              "      <td>0</td>\n",
              "      <td>0</td>\n",
              "      <td>0</td>\n",
              "      <td>0</td>\n",
              "      <td>0</td>\n",
              "      <td>0</td>\n",
              "      <td>0</td>\n",
              "      <td>0</td>\n",
              "      <td>0</td>\n",
              "      <td>0</td>\n",
              "      <td>0</td>\n",
              "      <td>0</td>\n",
              "      <td>0</td>\n",
              "      <td>0</td>\n",
              "      <td>0</td>\n",
              "      <td>0</td>\n",
              "      <td>0</td>\n",
              "      <td>0</td>\n",
              "      <td>0</td>\n",
              "      <td>0</td>\n",
              "      <td>0</td>\n",
              "      <td>0</td>\n",
              "      <td>0</td>\n",
              "      <td>0</td>\n",
              "      <td>0</td>\n",
              "      <td>0</td>\n",
              "      <td>0</td>\n",
              "      <td>0</td>\n",
              "      <td>0</td>\n",
              "      <td>0</td>\n",
              "      <td>0</td>\n",
              "      <td>...</td>\n",
              "      <td>0</td>\n",
              "      <td>0</td>\n",
              "      <td>0</td>\n",
              "      <td>0</td>\n",
              "      <td>0</td>\n",
              "      <td>0</td>\n",
              "      <td>0</td>\n",
              "      <td>0</td>\n",
              "      <td>0</td>\n",
              "      <td>0</td>\n",
              "      <td>0</td>\n",
              "      <td>0</td>\n",
              "      <td>0</td>\n",
              "      <td>0</td>\n",
              "      <td>0</td>\n",
              "      <td>0</td>\n",
              "      <td>0</td>\n",
              "      <td>0</td>\n",
              "      <td>0</td>\n",
              "      <td>0</td>\n",
              "      <td>0</td>\n",
              "      <td>0</td>\n",
              "      <td>0</td>\n",
              "      <td>2</td>\n",
              "      <td>2</td>\n",
              "      <td>2</td>\n",
              "      <td>2</td>\n",
              "      <td>2</td>\n",
              "      <td>2</td>\n",
              "      <td>2</td>\n",
              "      <td>2</td>\n",
              "      <td>2</td>\n",
              "      <td>2</td>\n",
              "      <td>2</td>\n",
              "      <td>2</td>\n",
              "      <td>2</td>\n",
              "      <td>2</td>\n",
              "      <td>2</td>\n",
              "      <td>2</td>\n",
              "      <td>0</td>\n",
              "    </tr>\n",
              "    <tr>\n",
              "      <th>...</th>\n",
              "      <td>...</td>\n",
              "      <td>...</td>\n",
              "      <td>...</td>\n",
              "      <td>...</td>\n",
              "      <td>...</td>\n",
              "      <td>...</td>\n",
              "      <td>...</td>\n",
              "      <td>...</td>\n",
              "      <td>...</td>\n",
              "      <td>...</td>\n",
              "      <td>...</td>\n",
              "      <td>...</td>\n",
              "      <td>...</td>\n",
              "      <td>...</td>\n",
              "      <td>...</td>\n",
              "      <td>...</td>\n",
              "      <td>...</td>\n",
              "      <td>...</td>\n",
              "      <td>...</td>\n",
              "      <td>...</td>\n",
              "      <td>...</td>\n",
              "      <td>...</td>\n",
              "      <td>...</td>\n",
              "      <td>...</td>\n",
              "      <td>...</td>\n",
              "      <td>...</td>\n",
              "      <td>...</td>\n",
              "      <td>...</td>\n",
              "      <td>...</td>\n",
              "      <td>...</td>\n",
              "      <td>...</td>\n",
              "      <td>...</td>\n",
              "      <td>...</td>\n",
              "      <td>...</td>\n",
              "      <td>...</td>\n",
              "      <td>...</td>\n",
              "      <td>...</td>\n",
              "      <td>...</td>\n",
              "      <td>...</td>\n",
              "      <td>...</td>\n",
              "      <td>...</td>\n",
              "      <td>...</td>\n",
              "      <td>...</td>\n",
              "      <td>...</td>\n",
              "      <td>...</td>\n",
              "      <td>...</td>\n",
              "      <td>...</td>\n",
              "      <td>...</td>\n",
              "      <td>...</td>\n",
              "      <td>...</td>\n",
              "      <td>...</td>\n",
              "      <td>...</td>\n",
              "      <td>...</td>\n",
              "      <td>...</td>\n",
              "      <td>...</td>\n",
              "      <td>...</td>\n",
              "      <td>...</td>\n",
              "      <td>...</td>\n",
              "      <td>...</td>\n",
              "      <td>...</td>\n",
              "      <td>...</td>\n",
              "      <td>...</td>\n",
              "      <td>...</td>\n",
              "      <td>...</td>\n",
              "      <td>...</td>\n",
              "      <td>...</td>\n",
              "      <td>...</td>\n",
              "      <td>...</td>\n",
              "      <td>...</td>\n",
              "      <td>...</td>\n",
              "      <td>...</td>\n",
              "      <td>...</td>\n",
              "      <td>...</td>\n",
              "      <td>...</td>\n",
              "      <td>...</td>\n",
              "      <td>...</td>\n",
              "      <td>...</td>\n",
              "      <td>...</td>\n",
              "      <td>...</td>\n",
              "      <td>...</td>\n",
              "      <td>...</td>\n",
              "    </tr>\n",
              "    <tr>\n",
              "      <th>259</th>\n",
              "      <td>1</td>\n",
              "      <td>0</td>\n",
              "      <td>0</td>\n",
              "      <td>0</td>\n",
              "      <td>0</td>\n",
              "      <td>0</td>\n",
              "      <td>0</td>\n",
              "      <td>0</td>\n",
              "      <td>0</td>\n",
              "      <td>0</td>\n",
              "      <td>0</td>\n",
              "      <td>0</td>\n",
              "      <td>0</td>\n",
              "      <td>0</td>\n",
              "      <td>0</td>\n",
              "      <td>0</td>\n",
              "      <td>0</td>\n",
              "      <td>0</td>\n",
              "      <td>0</td>\n",
              "      <td>0</td>\n",
              "      <td>0</td>\n",
              "      <td>0</td>\n",
              "      <td>0</td>\n",
              "      <td>0</td>\n",
              "      <td>0</td>\n",
              "      <td>0</td>\n",
              "      <td>0</td>\n",
              "      <td>0</td>\n",
              "      <td>0</td>\n",
              "      <td>0</td>\n",
              "      <td>0</td>\n",
              "      <td>0</td>\n",
              "      <td>0</td>\n",
              "      <td>0</td>\n",
              "      <td>0</td>\n",
              "      <td>0</td>\n",
              "      <td>0</td>\n",
              "      <td>0</td>\n",
              "      <td>0</td>\n",
              "      <td>0</td>\n",
              "      <td>...</td>\n",
              "      <td>0</td>\n",
              "      <td>0</td>\n",
              "      <td>0</td>\n",
              "      <td>0</td>\n",
              "      <td>0</td>\n",
              "      <td>0</td>\n",
              "      <td>0</td>\n",
              "      <td>0</td>\n",
              "      <td>0</td>\n",
              "      <td>0</td>\n",
              "      <td>0</td>\n",
              "      <td>0</td>\n",
              "      <td>0</td>\n",
              "      <td>0</td>\n",
              "      <td>0</td>\n",
              "      <td>0</td>\n",
              "      <td>0</td>\n",
              "      <td>0</td>\n",
              "      <td>0</td>\n",
              "      <td>0</td>\n",
              "      <td>0</td>\n",
              "      <td>0</td>\n",
              "      <td>0</td>\n",
              "      <td>0</td>\n",
              "      <td>0</td>\n",
              "      <td>0</td>\n",
              "      <td>0</td>\n",
              "      <td>0</td>\n",
              "      <td>0</td>\n",
              "      <td>0</td>\n",
              "      <td>0</td>\n",
              "      <td>0</td>\n",
              "      <td>0</td>\n",
              "      <td>0</td>\n",
              "      <td>0</td>\n",
              "      <td>0</td>\n",
              "      <td>0</td>\n",
              "      <td>0</td>\n",
              "      <td>0</td>\n",
              "      <td>0</td>\n",
              "    </tr>\n",
              "    <tr>\n",
              "      <th>260</th>\n",
              "      <td>4</td>\n",
              "      <td>0</td>\n",
              "      <td>0</td>\n",
              "      <td>0</td>\n",
              "      <td>0</td>\n",
              "      <td>0</td>\n",
              "      <td>0</td>\n",
              "      <td>0</td>\n",
              "      <td>0</td>\n",
              "      <td>0</td>\n",
              "      <td>0</td>\n",
              "      <td>0</td>\n",
              "      <td>0</td>\n",
              "      <td>0</td>\n",
              "      <td>0</td>\n",
              "      <td>0</td>\n",
              "      <td>0</td>\n",
              "      <td>0</td>\n",
              "      <td>0</td>\n",
              "      <td>0</td>\n",
              "      <td>0</td>\n",
              "      <td>0</td>\n",
              "      <td>0</td>\n",
              "      <td>0</td>\n",
              "      <td>0</td>\n",
              "      <td>0</td>\n",
              "      <td>0</td>\n",
              "      <td>0</td>\n",
              "      <td>0</td>\n",
              "      <td>0</td>\n",
              "      <td>0</td>\n",
              "      <td>0</td>\n",
              "      <td>0</td>\n",
              "      <td>0</td>\n",
              "      <td>0</td>\n",
              "      <td>0</td>\n",
              "      <td>0</td>\n",
              "      <td>0</td>\n",
              "      <td>0</td>\n",
              "      <td>0</td>\n",
              "      <td>...</td>\n",
              "      <td>0</td>\n",
              "      <td>0</td>\n",
              "      <td>0</td>\n",
              "      <td>0</td>\n",
              "      <td>0</td>\n",
              "      <td>0</td>\n",
              "      <td>0</td>\n",
              "      <td>0</td>\n",
              "      <td>0</td>\n",
              "      <td>0</td>\n",
              "      <td>0</td>\n",
              "      <td>0</td>\n",
              "      <td>0</td>\n",
              "      <td>0</td>\n",
              "      <td>0</td>\n",
              "      <td>0</td>\n",
              "      <td>0</td>\n",
              "      <td>0</td>\n",
              "      <td>0</td>\n",
              "      <td>0</td>\n",
              "      <td>0</td>\n",
              "      <td>0</td>\n",
              "      <td>0</td>\n",
              "      <td>0</td>\n",
              "      <td>0</td>\n",
              "      <td>0</td>\n",
              "      <td>0</td>\n",
              "      <td>0</td>\n",
              "      <td>0</td>\n",
              "      <td>0</td>\n",
              "      <td>0</td>\n",
              "      <td>0</td>\n",
              "      <td>0</td>\n",
              "      <td>0</td>\n",
              "      <td>0</td>\n",
              "      <td>0</td>\n",
              "      <td>0</td>\n",
              "      <td>0</td>\n",
              "      <td>0</td>\n",
              "      <td>0</td>\n",
              "    </tr>\n",
              "    <tr>\n",
              "      <th>261</th>\n",
              "      <td>6</td>\n",
              "      <td>0</td>\n",
              "      <td>0</td>\n",
              "      <td>0</td>\n",
              "      <td>0</td>\n",
              "      <td>0</td>\n",
              "      <td>0</td>\n",
              "      <td>0</td>\n",
              "      <td>0</td>\n",
              "      <td>0</td>\n",
              "      <td>0</td>\n",
              "      <td>0</td>\n",
              "      <td>0</td>\n",
              "      <td>0</td>\n",
              "      <td>0</td>\n",
              "      <td>0</td>\n",
              "      <td>0</td>\n",
              "      <td>0</td>\n",
              "      <td>0</td>\n",
              "      <td>0</td>\n",
              "      <td>0</td>\n",
              "      <td>0</td>\n",
              "      <td>0</td>\n",
              "      <td>0</td>\n",
              "      <td>0</td>\n",
              "      <td>0</td>\n",
              "      <td>0</td>\n",
              "      <td>0</td>\n",
              "      <td>0</td>\n",
              "      <td>0</td>\n",
              "      <td>0</td>\n",
              "      <td>0</td>\n",
              "      <td>0</td>\n",
              "      <td>0</td>\n",
              "      <td>0</td>\n",
              "      <td>0</td>\n",
              "      <td>0</td>\n",
              "      <td>0</td>\n",
              "      <td>0</td>\n",
              "      <td>0</td>\n",
              "      <td>...</td>\n",
              "      <td>0</td>\n",
              "      <td>0</td>\n",
              "      <td>0</td>\n",
              "      <td>0</td>\n",
              "      <td>0</td>\n",
              "      <td>0</td>\n",
              "      <td>0</td>\n",
              "      <td>0</td>\n",
              "      <td>0</td>\n",
              "      <td>0</td>\n",
              "      <td>0</td>\n",
              "      <td>0</td>\n",
              "      <td>0</td>\n",
              "      <td>0</td>\n",
              "      <td>0</td>\n",
              "      <td>0</td>\n",
              "      <td>0</td>\n",
              "      <td>0</td>\n",
              "      <td>0</td>\n",
              "      <td>0</td>\n",
              "      <td>0</td>\n",
              "      <td>0</td>\n",
              "      <td>0</td>\n",
              "      <td>0</td>\n",
              "      <td>0</td>\n",
              "      <td>0</td>\n",
              "      <td>0</td>\n",
              "      <td>0</td>\n",
              "      <td>0</td>\n",
              "      <td>0</td>\n",
              "      <td>0</td>\n",
              "      <td>0</td>\n",
              "      <td>0</td>\n",
              "      <td>0</td>\n",
              "      <td>0</td>\n",
              "      <td>0</td>\n",
              "      <td>0</td>\n",
              "      <td>0</td>\n",
              "      <td>0</td>\n",
              "      <td>0</td>\n",
              "    </tr>\n",
              "    <tr>\n",
              "      <th>262</th>\n",
              "      <td>4</td>\n",
              "      <td>0</td>\n",
              "      <td>0</td>\n",
              "      <td>0</td>\n",
              "      <td>0</td>\n",
              "      <td>0</td>\n",
              "      <td>0</td>\n",
              "      <td>0</td>\n",
              "      <td>0</td>\n",
              "      <td>0</td>\n",
              "      <td>0</td>\n",
              "      <td>0</td>\n",
              "      <td>0</td>\n",
              "      <td>0</td>\n",
              "      <td>0</td>\n",
              "      <td>0</td>\n",
              "      <td>0</td>\n",
              "      <td>0</td>\n",
              "      <td>0</td>\n",
              "      <td>0</td>\n",
              "      <td>0</td>\n",
              "      <td>0</td>\n",
              "      <td>0</td>\n",
              "      <td>0</td>\n",
              "      <td>0</td>\n",
              "      <td>0</td>\n",
              "      <td>0</td>\n",
              "      <td>0</td>\n",
              "      <td>0</td>\n",
              "      <td>0</td>\n",
              "      <td>0</td>\n",
              "      <td>0</td>\n",
              "      <td>0</td>\n",
              "      <td>0</td>\n",
              "      <td>0</td>\n",
              "      <td>0</td>\n",
              "      <td>0</td>\n",
              "      <td>0</td>\n",
              "      <td>0</td>\n",
              "      <td>0</td>\n",
              "      <td>...</td>\n",
              "      <td>0</td>\n",
              "      <td>0</td>\n",
              "      <td>0</td>\n",
              "      <td>0</td>\n",
              "      <td>0</td>\n",
              "      <td>0</td>\n",
              "      <td>0</td>\n",
              "      <td>0</td>\n",
              "      <td>0</td>\n",
              "      <td>0</td>\n",
              "      <td>0</td>\n",
              "      <td>0</td>\n",
              "      <td>0</td>\n",
              "      <td>0</td>\n",
              "      <td>0</td>\n",
              "      <td>0</td>\n",
              "      <td>0</td>\n",
              "      <td>0</td>\n",
              "      <td>0</td>\n",
              "      <td>0</td>\n",
              "      <td>0</td>\n",
              "      <td>0</td>\n",
              "      <td>0</td>\n",
              "      <td>0</td>\n",
              "      <td>0</td>\n",
              "      <td>0</td>\n",
              "      <td>0</td>\n",
              "      <td>0</td>\n",
              "      <td>0</td>\n",
              "      <td>0</td>\n",
              "      <td>0</td>\n",
              "      <td>0</td>\n",
              "      <td>0</td>\n",
              "      <td>0</td>\n",
              "      <td>0</td>\n",
              "      <td>0</td>\n",
              "      <td>0</td>\n",
              "      <td>0</td>\n",
              "      <td>0</td>\n",
              "      <td>0</td>\n",
              "    </tr>\n",
              "    <tr>\n",
              "      <th>263</th>\n",
              "      <td>1</td>\n",
              "      <td>0</td>\n",
              "      <td>0</td>\n",
              "      <td>0</td>\n",
              "      <td>0</td>\n",
              "      <td>0</td>\n",
              "      <td>0</td>\n",
              "      <td>0</td>\n",
              "      <td>0</td>\n",
              "      <td>0</td>\n",
              "      <td>0</td>\n",
              "      <td>0</td>\n",
              "      <td>0</td>\n",
              "      <td>0</td>\n",
              "      <td>0</td>\n",
              "      <td>0</td>\n",
              "      <td>0</td>\n",
              "      <td>0</td>\n",
              "      <td>0</td>\n",
              "      <td>0</td>\n",
              "      <td>0</td>\n",
              "      <td>0</td>\n",
              "      <td>0</td>\n",
              "      <td>0</td>\n",
              "      <td>0</td>\n",
              "      <td>0</td>\n",
              "      <td>0</td>\n",
              "      <td>0</td>\n",
              "      <td>0</td>\n",
              "      <td>0</td>\n",
              "      <td>0</td>\n",
              "      <td>0</td>\n",
              "      <td>0</td>\n",
              "      <td>0</td>\n",
              "      <td>0</td>\n",
              "      <td>0</td>\n",
              "      <td>0</td>\n",
              "      <td>0</td>\n",
              "      <td>0</td>\n",
              "      <td>0</td>\n",
              "      <td>...</td>\n",
              "      <td>0</td>\n",
              "      <td>0</td>\n",
              "      <td>0</td>\n",
              "      <td>0</td>\n",
              "      <td>0</td>\n",
              "      <td>0</td>\n",
              "      <td>0</td>\n",
              "      <td>0</td>\n",
              "      <td>0</td>\n",
              "      <td>0</td>\n",
              "      <td>0</td>\n",
              "      <td>0</td>\n",
              "      <td>0</td>\n",
              "      <td>0</td>\n",
              "      <td>0</td>\n",
              "      <td>0</td>\n",
              "      <td>0</td>\n",
              "      <td>0</td>\n",
              "      <td>0</td>\n",
              "      <td>0</td>\n",
              "      <td>0</td>\n",
              "      <td>0</td>\n",
              "      <td>0</td>\n",
              "      <td>0</td>\n",
              "      <td>0</td>\n",
              "      <td>0</td>\n",
              "      <td>0</td>\n",
              "      <td>0</td>\n",
              "      <td>0</td>\n",
              "      <td>0</td>\n",
              "      <td>0</td>\n",
              "      <td>0</td>\n",
              "      <td>0</td>\n",
              "      <td>0</td>\n",
              "      <td>0</td>\n",
              "      <td>0</td>\n",
              "      <td>0</td>\n",
              "      <td>0</td>\n",
              "      <td>0</td>\n",
              "      <td>0</td>\n",
              "    </tr>\n",
              "  </tbody>\n",
              "</table>\n",
              "<p>264 rows × 169 columns</p>\n",
              "</div>"
            ],
            "text/plain": [
              "     confirmed.latest  ...  recovered.latest\n",
              "0                 665  ...                 0\n",
              "1                 467  ...                 0\n",
              "2                1983  ...                 0\n",
              "3                 646  ...                 0\n",
              "4                  19  ...                 0\n",
              "..                ...  ...               ...\n",
              "259                 1  ...                 0\n",
              "260                 4  ...                 0\n",
              "261                 6  ...                 0\n",
              "262                 4  ...                 0\n",
              "263                 1  ...                 0\n",
              "\n",
              "[264 rows x 169 columns]"
            ]
          },
          "metadata": {
            "tags": []
          },
          "execution_count": 15
        }
      ]
    },
    {
      "cell_type": "code",
      "metadata": {
        "id": "xV_z2gDa61Oa",
        "colab_type": "code",
        "outputId": "607cfa3b-4173-4644-8844-37dba3dae3d9",
        "colab": {
          "base_uri": "https://localhost:8080/",
          "height": 394
        }
      },
      "source": [
        "# This exercise is kind of independent of the previous block.\n",
        "\n",
        "n=0 #131 is India\n",
        "locations[n]['last_updated']\n",
        "\n",
        "for key in locations[n].keys():\n",
        "  print(key + \" : \" + str(locations[n][key]))\n",
        "\n",
        "print(\"Next\")\n",
        "len(locations[n]['timelines'])\n",
        "print(\"locations keys: \") ; print( locations[n]['timelines'].keys() )\n",
        "print(\"timeline - confirmed : \" ); print(len(locations[n]['timelines']['confirmed']) )\n",
        "print(\"timeline - confirmed - keys :\" ) ; print(locations[n]['timelines']['confirmed'].keys())\n",
        "print(\"Next2\")\n",
        "print(type(locations[n]['timelines']['confirmed']['latest']))\n",
        "print(type(locations[n]['timelines']['confirmed']['timeline']))\n",
        "\n",
        "print(\"timeline-confirmed-timeline-keys\") ; print(locations[n]['timelines']['confirmed']['timeline'].keys())\n",
        "\n",
        "#for k,v in locations[n]['timelines']['confirmed']['timeline']:\n",
        "  \n",
        "timeseries =  pd.DataFrame.from_dict(locations[n]['timelines']['confirmed']['timeline'], orient ='index')\n"
      ],
      "execution_count": 31,
      "outputs": [
        {
          "output_type": "stream",
          "text": [
            "id : 0\n",
            "country : Afghanistan\n",
            "country_code : AF\n",
            "country_population : 29121286\n",
            "province : \n",
            "last_updated : 2020-04-14T20:16:23.391268Z\n",
            "coordinates : {'latitude': '33.0', 'longitude': '65.0'}\n",
            "latest : {'confirmed': 665, 'deaths': 21, 'recovered': 0}\n",
            "timelines : {'confirmed': {'latest': 665, 'timeline': {'2020-01-22T00:00:00Z': 0, '2020-01-23T00:00:00Z': 0, '2020-01-24T00:00:00Z': 0, '2020-01-25T00:00:00Z': 0, '2020-01-26T00:00:00Z': 0, '2020-01-27T00:00:00Z': 0, '2020-01-28T00:00:00Z': 0, '2020-01-29T00:00:00Z': 0, '2020-01-30T00:00:00Z': 0, '2020-01-31T00:00:00Z': 0, '2020-02-01T00:00:00Z': 0, '2020-02-02T00:00:00Z': 0, '2020-02-03T00:00:00Z': 0, '2020-02-04T00:00:00Z': 0, '2020-02-05T00:00:00Z': 0, '2020-02-06T00:00:00Z': 0, '2020-02-07T00:00:00Z': 0, '2020-02-08T00:00:00Z': 0, '2020-02-09T00:00:00Z': 0, '2020-02-10T00:00:00Z': 0, '2020-02-11T00:00:00Z': 0, '2020-02-12T00:00:00Z': 0, '2020-02-13T00:00:00Z': 0, '2020-02-14T00:00:00Z': 0, '2020-02-15T00:00:00Z': 0, '2020-02-16T00:00:00Z': 0, '2020-02-17T00:00:00Z': 0, '2020-02-18T00:00:00Z': 0, '2020-02-19T00:00:00Z': 0, '2020-02-20T00:00:00Z': 0, '2020-02-21T00:00:00Z': 0, '2020-02-22T00:00:00Z': 0, '2020-02-23T00:00:00Z': 0, '2020-02-24T00:00:00Z': 1, '2020-02-25T00:00:00Z': 1, '2020-02-26T00:00:00Z': 1, '2020-02-27T00:00:00Z': 1, '2020-02-28T00:00:00Z': 1, '2020-02-29T00:00:00Z': 1, '2020-03-01T00:00:00Z': 1, '2020-03-02T00:00:00Z': 1, '2020-03-03T00:00:00Z': 1, '2020-03-04T00:00:00Z': 1, '2020-03-05T00:00:00Z': 1, '2020-03-06T00:00:00Z': 1, '2020-03-07T00:00:00Z': 1, '2020-03-08T00:00:00Z': 4, '2020-03-09T00:00:00Z': 4, '2020-03-10T00:00:00Z': 5, '2020-03-11T00:00:00Z': 7, '2020-03-12T00:00:00Z': 7, '2020-03-13T00:00:00Z': 7, '2020-03-14T00:00:00Z': 11, '2020-03-15T00:00:00Z': 16, '2020-03-16T00:00:00Z': 21, '2020-03-17T00:00:00Z': 22, '2020-03-18T00:00:00Z': 22, '2020-03-19T00:00:00Z': 22, '2020-03-20T00:00:00Z': 24, '2020-03-21T00:00:00Z': 24, '2020-03-22T00:00:00Z': 40, '2020-03-23T00:00:00Z': 40, '2020-03-24T00:00:00Z': 74, '2020-03-25T00:00:00Z': 84, '2020-03-26T00:00:00Z': 94, '2020-03-27T00:00:00Z': 110, '2020-03-28T00:00:00Z': 110, '2020-03-29T00:00:00Z': 120, '2020-03-30T00:00:00Z': 170, '2020-03-31T00:00:00Z': 174, '2020-04-01T00:00:00Z': 237, '2020-04-02T00:00:00Z': 273, '2020-04-03T00:00:00Z': 281, '2020-04-04T00:00:00Z': 299, '2020-04-05T00:00:00Z': 349, '2020-04-06T00:00:00Z': 367, '2020-04-07T00:00:00Z': 423, '2020-04-08T00:00:00Z': 444, '2020-04-09T00:00:00Z': 484, '2020-04-10T00:00:00Z': 521, '2020-04-11T00:00:00Z': 555, '2020-04-12T00:00:00Z': 607, '2020-04-13T00:00:00Z': 665}}, 'deaths': {'latest': 21, 'timeline': {'2020-01-22T00:00:00Z': 0, '2020-01-23T00:00:00Z': 0, '2020-01-24T00:00:00Z': 0, '2020-01-25T00:00:00Z': 0, '2020-01-26T00:00:00Z': 0, '2020-01-27T00:00:00Z': 0, '2020-01-28T00:00:00Z': 0, '2020-01-29T00:00:00Z': 0, '2020-01-30T00:00:00Z': 0, '2020-01-31T00:00:00Z': 0, '2020-02-01T00:00:00Z': 0, '2020-02-02T00:00:00Z': 0, '2020-02-03T00:00:00Z': 0, '2020-02-04T00:00:00Z': 0, '2020-02-05T00:00:00Z': 0, '2020-02-06T00:00:00Z': 0, '2020-02-07T00:00:00Z': 0, '2020-02-08T00:00:00Z': 0, '2020-02-09T00:00:00Z': 0, '2020-02-10T00:00:00Z': 0, '2020-02-11T00:00:00Z': 0, '2020-02-12T00:00:00Z': 0, '2020-02-13T00:00:00Z': 0, '2020-02-14T00:00:00Z': 0, '2020-02-15T00:00:00Z': 0, '2020-02-16T00:00:00Z': 0, '2020-02-17T00:00:00Z': 0, '2020-02-18T00:00:00Z': 0, '2020-02-19T00:00:00Z': 0, '2020-02-20T00:00:00Z': 0, '2020-02-21T00:00:00Z': 0, '2020-02-22T00:00:00Z': 0, '2020-02-23T00:00:00Z': 0, '2020-02-24T00:00:00Z': 0, '2020-02-25T00:00:00Z': 0, '2020-02-26T00:00:00Z': 0, '2020-02-27T00:00:00Z': 0, '2020-02-28T00:00:00Z': 0, '2020-02-29T00:00:00Z': 0, '2020-03-01T00:00:00Z': 0, '2020-03-02T00:00:00Z': 0, '2020-03-03T00:00:00Z': 0, '2020-03-04T00:00:00Z': 0, '2020-03-05T00:00:00Z': 0, '2020-03-06T00:00:00Z': 0, '2020-03-07T00:00:00Z': 0, '2020-03-08T00:00:00Z': 0, '2020-03-09T00:00:00Z': 0, '2020-03-10T00:00:00Z': 0, '2020-03-11T00:00:00Z': 0, '2020-03-12T00:00:00Z': 0, '2020-03-13T00:00:00Z': 0, '2020-03-14T00:00:00Z': 0, '2020-03-15T00:00:00Z': 0, '2020-03-16T00:00:00Z': 0, '2020-03-17T00:00:00Z': 0, '2020-03-18T00:00:00Z': 0, '2020-03-19T00:00:00Z': 0, '2020-03-20T00:00:00Z': 0, '2020-03-21T00:00:00Z': 0, '2020-03-22T00:00:00Z': 1, '2020-03-23T00:00:00Z': 1, '2020-03-24T00:00:00Z': 1, '2020-03-25T00:00:00Z': 2, '2020-03-26T00:00:00Z': 4, '2020-03-27T00:00:00Z': 4, '2020-03-28T00:00:00Z': 4, '2020-03-29T00:00:00Z': 4, '2020-03-30T00:00:00Z': 4, '2020-03-31T00:00:00Z': 4, '2020-04-01T00:00:00Z': 4, '2020-04-02T00:00:00Z': 6, '2020-04-03T00:00:00Z': 6, '2020-04-04T00:00:00Z': 7, '2020-04-05T00:00:00Z': 7, '2020-04-06T00:00:00Z': 11, '2020-04-07T00:00:00Z': 14, '2020-04-08T00:00:00Z': 14, '2020-04-09T00:00:00Z': 15, '2020-04-10T00:00:00Z': 15, '2020-04-11T00:00:00Z': 18, '2020-04-12T00:00:00Z': 18, '2020-04-13T00:00:00Z': 21}}, 'recovered': {'latest': 0, 'timeline': {}}}\n",
            "Next\n",
            "locations keys: \n",
            "dict_keys(['confirmed', 'deaths', 'recovered'])\n",
            "timeline - confirmed : \n",
            "2\n",
            "timeline - confirmed - keys :\n",
            "dict_keys(['latest', 'timeline'])\n",
            "Next2\n",
            "<class 'int'>\n",
            "<class 'dict'>\n",
            "timeline-confirmed-timeline-keys\n",
            "dict_keys(['2020-01-22T00:00:00Z', '2020-01-23T00:00:00Z', '2020-01-24T00:00:00Z', '2020-01-25T00:00:00Z', '2020-01-26T00:00:00Z', '2020-01-27T00:00:00Z', '2020-01-28T00:00:00Z', '2020-01-29T00:00:00Z', '2020-01-30T00:00:00Z', '2020-01-31T00:00:00Z', '2020-02-01T00:00:00Z', '2020-02-02T00:00:00Z', '2020-02-03T00:00:00Z', '2020-02-04T00:00:00Z', '2020-02-05T00:00:00Z', '2020-02-06T00:00:00Z', '2020-02-07T00:00:00Z', '2020-02-08T00:00:00Z', '2020-02-09T00:00:00Z', '2020-02-10T00:00:00Z', '2020-02-11T00:00:00Z', '2020-02-12T00:00:00Z', '2020-02-13T00:00:00Z', '2020-02-14T00:00:00Z', '2020-02-15T00:00:00Z', '2020-02-16T00:00:00Z', '2020-02-17T00:00:00Z', '2020-02-18T00:00:00Z', '2020-02-19T00:00:00Z', '2020-02-20T00:00:00Z', '2020-02-21T00:00:00Z', '2020-02-22T00:00:00Z', '2020-02-23T00:00:00Z', '2020-02-24T00:00:00Z', '2020-02-25T00:00:00Z', '2020-02-26T00:00:00Z', '2020-02-27T00:00:00Z', '2020-02-28T00:00:00Z', '2020-02-29T00:00:00Z', '2020-03-01T00:00:00Z', '2020-03-02T00:00:00Z', '2020-03-03T00:00:00Z', '2020-03-04T00:00:00Z', '2020-03-05T00:00:00Z', '2020-03-06T00:00:00Z', '2020-03-07T00:00:00Z', '2020-03-08T00:00:00Z', '2020-03-09T00:00:00Z', '2020-03-10T00:00:00Z', '2020-03-11T00:00:00Z', '2020-03-12T00:00:00Z', '2020-03-13T00:00:00Z', '2020-03-14T00:00:00Z', '2020-03-15T00:00:00Z', '2020-03-16T00:00:00Z', '2020-03-17T00:00:00Z', '2020-03-18T00:00:00Z', '2020-03-19T00:00:00Z', '2020-03-20T00:00:00Z', '2020-03-21T00:00:00Z', '2020-03-22T00:00:00Z', '2020-03-23T00:00:00Z', '2020-03-24T00:00:00Z', '2020-03-25T00:00:00Z', '2020-03-26T00:00:00Z', '2020-03-27T00:00:00Z', '2020-03-28T00:00:00Z', '2020-03-29T00:00:00Z', '2020-03-30T00:00:00Z', '2020-03-31T00:00:00Z', '2020-04-01T00:00:00Z', '2020-04-02T00:00:00Z', '2020-04-03T00:00:00Z', '2020-04-04T00:00:00Z', '2020-04-05T00:00:00Z', '2020-04-06T00:00:00Z', '2020-04-07T00:00:00Z', '2020-04-08T00:00:00Z', '2020-04-09T00:00:00Z', '2020-04-10T00:00:00Z', '2020-04-11T00:00:00Z', '2020-04-12T00:00:00Z', '2020-04-13T00:00:00Z'])\n"
          ],
          "name": "stdout"
        }
      ]
    },
    {
      "cell_type": "code",
      "metadata": {
        "id": "uSSwBB5ylOB-",
        "colab_type": "code",
        "colab": {
          "base_uri": "https://localhost:8080/",
          "height": 153
        },
        "outputId": "2b02df06-8a21-41cd-eb40-a3b232bf04b3"
      },
      "source": [
        "#print(\"Pehla : \" + str (timeseries.index))\n",
        "timeseries.index = pd.to_datetime(timeseries.index)\n",
        "#print(\"Pachhi : \" + str (timeseries.index))\n",
        "timeseries.columns = ['confirmedCases']\n",
        "timeseries.info()"
      ],
      "execution_count": 48,
      "outputs": [
        {
          "output_type": "stream",
          "text": [
            "<class 'pandas.core.frame.DataFrame'>\n",
            "DatetimeIndex: 83 entries, 2020-01-22 00:00:00+00:00 to 2020-04-13 00:00:00+00:00\n",
            "Data columns (total 1 columns):\n",
            " #   Column          Non-Null Count  Dtype\n",
            "---  ------          --------------  -----\n",
            " 0   confirmedCases  83 non-null     int64\n",
            "dtypes: int64(1)\n",
            "memory usage: 1.3 KB\n"
          ],
          "name": "stdout"
        }
      ]
    },
    {
      "cell_type": "code",
      "metadata": {
        "id": "BNMdhepc7hOM",
        "colab_type": "code",
        "outputId": "192e3613-2905-44ae-a629-1b54216c4e07",
        "colab": {
          "base_uri": "https://localhost:8080/",
          "height": 51
        }
      },
      "source": [
        "\n",
        "print(len(locations[n]['timelines']['confirmed']['timeline']))\n",
        "print(len(timeseries))"
      ],
      "execution_count": 50,
      "outputs": [
        {
          "output_type": "stream",
          "text": [
            "83\n",
            "83\n"
          ],
          "name": "stdout"
        }
      ]
    },
    {
      "cell_type": "code",
      "metadata": {
        "id": "3rXXPMDE8iuf",
        "colab_type": "code",
        "outputId": "fc50b54e-65ec-40d1-dc02-b5c06bd739a9",
        "colab": {
          "base_uri": "https://localhost:8080/",
          "height": 300
        }
      },
      "source": [
        "import matplotlib.pyplot as plt\n",
        "timeseries.plot(grid=True)\n",
        "plt.show()"
      ],
      "execution_count": 53,
      "outputs": [
        {
          "output_type": "display_data",
          "data": {
            "image/png": "[encoded data removed]",
            "text/plain": [
              "<Figure size 432x288 with 1 Axes>"
            ]
          },
          "metadata": {
            "tags": [],
            "needs_background": "light"
          }
        }
      ]
    },
    {
      "cell_type": "code",
      "metadata": {
        "id": "F4IsLt5-rswu",
        "colab_type": "code",
        "colab": {}
      },
      "source": [
        "#trying to make a list of all the time series together\n",
        "# FPC we have to see how can we accomodate country code as column names, possibly along with province name if available\n",
        "for n in range(len(locations)):\n",
        "  timeseries[n] =  pd.DataFrame.from_dict(locations[n]['timelines']['confirmed']['timeline'], orient ='index')"
      ],
      "execution_count": 0,
      "outputs": []
    },
    {
      "cell_type": "code",
      "metadata": {
        "id": "onoLH_ZPsiTB",
        "colab_type": "code",
        "colab": {
          "base_uri": "https://localhost:8080/",
          "height": 34
        },
        "outputId": "b8e8f091-b7cb-4bd8-d282-b0f511803e5b"
      },
      "source": [
        "type(timeseries)"
      ],
      "execution_count": 56,
      "outputs": [
        {
          "output_type": "execute_result",
          "data": {
            "text/plain": [
              "pandas.core.frame.DataFrame"
            ]
          },
          "metadata": {
            "tags": []
          },
          "execution_count": 56
        }
      ]
    },
    {
      "cell_type": "code",
      "metadata": {
        "id": "cEvP2LThsndj",
        "colab_type": "code",
        "colab": {
          "base_uri": "https://localhost:8080/",
          "height": 306
        },
        "outputId": "7395380d-2a88-465a-c08a-ebe24fe53a15"
      },
      "source": [
        "timeseries.info()\n",
        "#timeseries = timeseries.drop(columns=['confirmedCases'])\n",
        "#timeseries.tail()\n",
        "timeseries[131]"
      ],
      "execution_count": 67,
      "outputs": [
        {
          "output_type": "stream",
          "text": [
            "<class 'pandas.core.frame.DataFrame'>\n",
            "DatetimeIndex: 83 entries, 2020-01-22 00:00:00+00:00 to 2020-04-13 00:00:00+00:00\n",
            "Columns: 264 entries, 0 to 263\n",
            "dtypes: int64(264)\n",
            "memory usage: 171.8 KB\n"
          ],
          "name": "stdout"
        },
        {
          "output_type": "execute_result",
          "data": {
            "text/plain": [
              "2020-01-22 00:00:00+00:00        0\n",
              "2020-01-23 00:00:00+00:00        0\n",
              "2020-01-24 00:00:00+00:00        0\n",
              "2020-01-25 00:00:00+00:00        0\n",
              "2020-01-26 00:00:00+00:00        0\n",
              "                             ...  \n",
              "2020-04-09 00:00:00+00:00     6725\n",
              "2020-04-10 00:00:00+00:00     7598\n",
              "2020-04-11 00:00:00+00:00     8446\n",
              "2020-04-12 00:00:00+00:00     9205\n",
              "2020-04-13 00:00:00+00:00    10453\n",
              "Name: 131, Length: 83, dtype: int64"
            ]
          },
          "metadata": {
            "tags": []
          },
          "execution_count": 67
        }
      ]
    },
    {
      "cell_type": "code",
      "metadata": {
        "id": "Q1s-iddXui0H",
        "colab_type": "code",
        "colab": {
          "base_uri": "https://localhost:8080/",
          "height": 300
        },
        "outputId": "0afe1940-d732-4290-9a9b-4bdb0a6dcf16"
      },
      "source": [
        "timeseries[131].plot(grid=True)\n",
        "plt.show()"
      ],
      "execution_count": 68,
      "outputs": [
        {
          "output_type": "display_data",
          "data": {
            "image/png": "[encoded data removed]",
            "text/plain": [
              "<Figure size 432x288 with 1 Axes>"
            ]
          },
          "metadata": {
            "tags": [],
            "needs_background": "light"
          }
        }
      ]
    },
    {
      "cell_type": "markdown",
      "metadata": {
        "id": "3kCI-WAZP7RT",
        "colab_type": "text"
      },
      "source": [
        " ------  Option - 2 <br>  Here we are trying to work on limited data, altervatively"
      ]
    },
    {
      "cell_type": "code",
      "metadata": {
        "id": "39Pmtn2LfAkF",
        "colab_type": "code",
        "colab": {}
      },
      "source": [
        "limitedData = covid.getLocationByCountryCode('IN')"
      ],
      "execution_count": 0,
      "outputs": []
    },
    {
      "cell_type": "code",
      "metadata": {
        "id": "WecSBXkRfGBo",
        "colab_type": "code",
        "outputId": "f3d2a9ad-88ca-4e98-c964-591e715ac06d",
        "colab": {
          "base_uri": "https://localhost:8080/",
          "height": 34
        }
      },
      "source": [
        "type(limitedData)"
      ],
      "execution_count": 20,
      "outputs": [
        {
          "output_type": "execute_result",
          "data": {
            "text/plain": [
              "list"
            ]
          },
          "metadata": {
            "tags": []
          },
          "execution_count": 20
        }
      ]
    },
    {
      "cell_type": "code",
      "metadata": {
        "id": "vTvN7KVLh_fQ",
        "colab_type": "code",
        "outputId": "f26d06a2-7ada-471b-d8b0-62e52570d50b",
        "colab": {
          "base_uri": "https://localhost:8080/",
          "height": 34
        }
      },
      "source": [
        "len(limitedData)"
      ],
      "execution_count": 21,
      "outputs": [
        {
          "output_type": "execute_result",
          "data": {
            "text/plain": [
              "1"
            ]
          },
          "metadata": {
            "tags": []
          },
          "execution_count": 21
        }
      ]
    },
    {
      "cell_type": "code",
      "metadata": {
        "id": "ZY9emc6hiDZz",
        "colab_type": "code",
        "outputId": "32cd3481-a2ee-4e25-b665-f32cd6827b5e",
        "colab": {
          "base_uri": "https://localhost:8080/",
          "height": 153
        }
      },
      "source": [
        "limitedData\n"
      ],
      "execution_count": 22,
      "outputs": [
        {
          "output_type": "execute_result",
          "data": {
            "text/plain": [
              "[{'coordinates': {'latitude': '21.0', 'longitude': '78.0'},\n",
              "  'country': 'India',\n",
              "  'country_code': 'IN',\n",
              "  'country_population': 1173108018,\n",
              "  'id': 131,\n",
              "  'last_updated': '2020-04-14T20:30:41.290254Z',\n",
              "  'latest': {'confirmed': 10453, 'deaths': 358, 'recovered': 0},\n",
              "  'province': ''}]"
            ]
          },
          "metadata": {
            "tags": []
          },
          "execution_count": 22
        }
      ]
    },
    {
      "cell_type": "code",
      "metadata": {
        "id": "_NhwcY_TiGfN",
        "colab_type": "code",
        "outputId": "5ff0a7d3-2852-4964-e285-11bb5ade0d5b",
        "colab": {
          "base_uri": "https://localhost:8080/",
          "height": 34
        }
      },
      "source": [
        "type(limitedData[0])\n",
        "\n",
        "len(limitedData[0])\n",
        "\n",
        "a = limitedData[0]\n",
        "a.keys()"
      ],
      "execution_count": 23,
      "outputs": [
        {
          "output_type": "execute_result",
          "data": {
            "text/plain": [
              "dict_keys(['id', 'country', 'country_code', 'country_population', 'province', 'last_updated', 'coordinates', 'latest'])"
            ]
          },
          "metadata": {
            "tags": []
          },
          "execution_count": 23
        }
      ]
    },
    {
      "cell_type": "code",
      "metadata": {
        "id": "BZiiCznziSv_",
        "colab_type": "code",
        "outputId": "f87d4c40-c891-4c43-93ca-48557a90a1c3",
        "colab": {
          "base_uri": "https://localhost:8080/",
          "height": 34
        }
      },
      "source": [
        "a['latest']"
      ],
      "execution_count": 24,
      "outputs": [
        {
          "output_type": "execute_result",
          "data": {
            "text/plain": [
              "{'confirmed': 10453, 'deaths': 358, 'recovered': 0}"
            ]
          },
          "metadata": {
            "tags": []
          },
          "execution_count": 24
        }
      ]
    },
    {
      "cell_type": "code",
      "metadata": {
        "id": "1-22LbNHip5A",
        "colab_type": "code",
        "outputId": "559209f6-1750-4f19-8608-f17dcc805c0a",
        "colab": {
          "base_uri": "https://localhost:8080/",
          "height": 153
        }
      },
      "source": [
        "n=0\n",
        "for item in a.keys():\n",
        "  #lst[n] = \n",
        "  print(str(item) + ' : '+str(a[item]))\n",
        "  n+=1\n"
      ],
      "execution_count": 25,
      "outputs": [
        {
          "output_type": "stream",
          "text": [
            "id : 131\n",
            "country : India\n",
            "country_code : IN\n",
            "country_population : 1173108018\n",
            "province : \n",
            "last_updated : 2020-04-14T20:30:41.290254Z\n",
            "coordinates : {'latitude': '21.0', 'longitude': '78.0'}\n",
            "latest : {'confirmed': 10453, 'deaths': 358, 'recovered': 0}\n"
          ],
          "name": "stdout"
        }
      ]
    },
    {
      "cell_type": "code",
      "metadata": {
        "id": "gI63KlGdPzUp",
        "colab_type": "code",
        "colab": {}
      },
      "source": [
        "def extract_text(obj, acc):\n",
        "  if isinstance(obj, dict):\n",
        "    for k, v in obj.items():\n",
        "      if isinstance(v, (dict, list)):\n",
        "        extract_text(v, acc)\n",
        "      elif k==\"text\":\n",
        "        acc.append(v)\n",
        "      elif isinstance(obj, list):\n",
        "        for item in obj:\n",
        "          extract_text(item, acc)"
      ],
      "execution_count": 0,
      "outputs": []
    },
    {
      "cell_type": "code",
      "metadata": {
        "id": "00qATBGp3nPK",
        "colab_type": "code",
        "colab": {}
      },
      "source": [
        "t1 = []\n",
        "extract_text(a,t1)"
      ],
      "execution_count": 0,
      "outputs": []
    },
    {
      "cell_type": "code",
      "metadata": {
        "id": "HVr1eM9a6-fK",
        "colab_type": "code",
        "outputId": "fcaa1d07-757d-4933-d717-c4a2ffe82fa2",
        "colab": {
          "base_uri": "https://localhost:8080/",
          "height": 34
        }
      },
      "source": [
        "t1"
      ],
      "execution_count": 28,
      "outputs": [
        {
          "output_type": "execute_result",
          "data": {
            "text/plain": [
              "[]"
            ]
          },
          "metadata": {
            "tags": []
          },
          "execution_count": 28
        }
      ]
    },
    {
      "cell_type": "code",
      "metadata": {
        "id": "_-PN895n7BUn",
        "colab_type": "code",
        "colab": {}
      },
      "source": [
        ""
      ],
      "execution_count": 0,
      "outputs": []
    }
  ]
}