{
  "nbformat": 4,
  "nbformat_minor": 0,
  "metadata": {
    "colab": {
      "name": "COVID19_2",
      "provenance": [],
      "collapsed_sections": [],
      "authorship_tag": "ABX9TyNJGlL+6amnDRRhZ36Lj6YG",
      "include_colab_link": true
    },
    "kernelspec": {
      "name": "python3",
      "display_name": "Python 3"
    }
  },
  "cells": [
    {
      "cell_type": "markdown",
      "metadata": {
        "id": "view-in-github",
        "colab_type": "text"
      },
      "source": [
        "<a href=\"https://colab.research.google.com/github/falakchhaya/COVID-19/blob/master/COVID19_2.ipynb\" target=\"_parent\"><img src=\"https://colab.research.google.com/assets/colab-badge.svg\" alt=\"Open In Colab\"/></a>"
      ]
    },
    {
      "cell_type": "code",
      "metadata": {
        "id": "J8SQnoMnzFR5",
        "colab_type": "code",
        "outputId": "dc297f9f-2a92-4b9c-8300-871d3ea2b733",
        "colab": {
          "base_uri": "https://localhost:8080/",
          "height": 190
        }
      },
      "source": [
        "!pip install COVID19Py"
      ],
      "execution_count": 1,
      "outputs": [
        {
          "output_type": "stream",
          "text": [
            "Collecting COVID19Py\n",
            "  Downloading https://files.pythonhosted.org/packages/d2/e5/d8129426769328cc19d939c7ccb9cb774a79de92cb093bec65f3dc81eb75/COVID19Py-0.3.0.tar.gz\n",
            "Building wheels for collected packages: COVID19Py\n",
            "  Building wheel for COVID19Py (setup.py) ... \u001b[?25l\u001b[?25hdone\n",
            "  Created wheel for COVID19Py: filename=COVID19Py-0.3.0-cp36-none-any.whl size=4719 sha256=b2af8feaa923fa5ce9f1ec053b3cd082dab8e0636939fa46ff3e2445a1990ba2\n",
            "  Stored in directory: /root/.cache/pip/wheels/23/78/50/78aaca989f422d636b01b9c55cd5e327fef838e973690f886c\n",
            "Successfully built COVID19Py\n",
            "Installing collected packages: COVID19Py\n",
            "Successfully installed COVID19Py-0.3.0\n"
          ],
          "name": "stdout"
        }
      ]
    },
    {
      "cell_type": "code",
      "metadata": {
        "id": "BAtoAYPz0BEy",
        "colab_type": "code",
        "colab": {}
      },
      "source": [
        "import COVID19Py"
      ],
      "execution_count": 0,
      "outputs": []
    },
    {
      "cell_type": "code",
      "metadata": {
        "id": "DRjneeKe0H6j",
        "colab_type": "code",
        "colab": {}
      },
      "source": [
        "covid = COVID19Py.COVID19()"
      ],
      "execution_count": 0,
      "outputs": []
    },
    {
      "cell_type": "code",
      "metadata": {
        "id": "DyAFR6Mxdztp",
        "colab_type": "code",
        "colab": {
          "base_uri": "https://localhost:8080/",
          "height": 34
        },
        "outputId": "6a608a0f-94a7-45f4-d40c-b8b9ed932f9e"
      },
      "source": [
        "type(covid)\n"
      ],
      "execution_count": 4,
      "outputs": [
        {
          "output_type": "execute_result",
          "data": {
            "text/plain": [
              "COVID19Py.covid19.COVID19"
            ]
          },
          "metadata": {
            "tags": []
          },
          "execution_count": 4
        }
      ]
    },
    {
      "cell_type": "markdown",
      "metadata": {
        "id": "0mZOcJd0n0cC",
        "colab_type": "text"
      },
      "source": [
        "#Important Summary\n",
        "\n",
        "Unable to figure out what exactly is the type of \"covid\" or in other words if there is no auto-complete option, how would I move further in such a situation. To be solved.\n",
        "<br><br>\n",
        "Now, thanks to auto-complete, there are a few functions that you can use on \"covid\". Two of the important ones are<br>\n",
        "(1) get all data (with or without timeline) <br>\n",
        "(2) get data by country code \n",
        "<br>\n",
        "I've tried these two options below\n"
      ]
    },
    {
      "cell_type": "markdown",
      "metadata": {
        "id": "IfN5iqB2QGpa",
        "colab_type": "text"
      },
      "source": [
        "------ Option - 1 <br>\n",
        "Trying to get all the data"
      ]
    },
    {
      "cell_type": "code",
      "metadata": {
        "id": "NZoNxvVD0Phk",
        "colab_type": "code",
        "colab": {}
      },
      "source": [
        "allData = covid.getAll(timelines=True)"
      ],
      "execution_count": 0,
      "outputs": []
    },
    {
      "cell_type": "code",
      "metadata": {
        "id": "bNYDTRZL0c_a",
        "colab_type": "code",
        "outputId": "64b92aa4-d20b-4245-fb93-228aa50965a0",
        "colab": {
          "base_uri": "https://localhost:8080/",
          "height": 34
        }
      },
      "source": [
        "type(allData)"
      ],
      "execution_count": 6,
      "outputs": [
        {
          "output_type": "execute_result",
          "data": {
            "text/plain": [
              "dict"
            ]
          },
          "metadata": {
            "tags": []
          },
          "execution_count": 6
        }
      ]
    },
    {
      "cell_type": "code",
      "metadata": {
        "id": "H3xmPLrI1HXR",
        "colab_type": "code",
        "outputId": "da0947be-20cf-42ff-cc87-de8ec456fa0f",
        "colab": {
          "base_uri": "https://localhost:8080/",
          "height": 34
        }
      },
      "source": [
        "allData.keys()"
      ],
      "execution_count": 7,
      "outputs": [
        {
          "output_type": "execute_result",
          "data": {
            "text/plain": [
              "dict_keys(['latest', 'locations'])"
            ]
          },
          "metadata": {
            "tags": []
          },
          "execution_count": 7
        }
      ]
    },
    {
      "cell_type": "code",
      "metadata": {
        "id": "xrW1-3CO1VDV",
        "colab_type": "code",
        "outputId": "c40039d0-8a78-4653-e846-eab0b164089f",
        "colab": {
          "base_uri": "https://localhost:8080/",
          "height": 34
        }
      },
      "source": [
        "allData.items()\n",
        "latest = allData['latest']\n",
        "type(latest)\n",
        "len(latest)\n",
        "latest.keys()\n"
      ],
      "execution_count": 8,
      "outputs": [
        {
          "output_type": "execute_result",
          "data": {
            "text/plain": [
              "dict_keys(['confirmed', 'deaths', 'recovered'])"
            ]
          },
          "metadata": {
            "tags": []
          },
          "execution_count": 8
        }
      ]
    },
    {
      "cell_type": "code",
      "metadata": {
        "id": "nZhUG8QucLqw",
        "colab_type": "code",
        "colab": {
          "base_uri": "https://localhost:8080/",
          "height": 34
        },
        "outputId": "5b890151-62f9-4bba-f4de-345b0b620ef9"
      },
      "source": [
        "latest['confirmed'];\n",
        "latest['deaths']\n",
        "latest['recovered']\n"
      ],
      "execution_count": 9,
      "outputs": [
        {
          "output_type": "execute_result",
          "data": {
            "text/plain": [
              "0"
            ]
          },
          "metadata": {
            "tags": []
          },
          "execution_count": 9
        }
      ]
    },
    {
      "cell_type": "markdown",
      "metadata": {
        "id": "8vs_2IRMcek9",
        "colab_type": "text"
      },
      "source": [
        "\n",
        "\n",
        "# Important Summary\n",
        "In allData, there are two keys. <br>\n",
        "\n",
        "'latest' and 'locations'.  <br><br>\n",
        "\n",
        "'latest' is a dictionary with 3 keys which gives single values of confirmed cases, deaths and recovered cases, that simple.\n",
        "<br> \n",
        "\n",
        "'locations' is a list (length - 264) of dictionary where each element of the list contains complete data of a country/province including latest data and timelines. (it comes right after this block)\n"
      ]
    },
    {
      "cell_type": "code",
      "metadata": {
        "id": "Hd-jRKUm1cNA",
        "colab_type": "code",
        "colab": {}
      },
      "source": [
        "locations = allData['locations']"
      ],
      "execution_count": 0,
      "outputs": []
    },
    {
      "cell_type": "code",
      "metadata": {
        "id": "BVBPeMBB3FPS",
        "colab_type": "code",
        "outputId": "e0f58216-4383-4899-f419-4752f44f9d18",
        "colab": {
          "base_uri": "https://localhost:8080/",
          "height": 34
        }
      },
      "source": [
        "type(locations)"
      ],
      "execution_count": 11,
      "outputs": [
        {
          "output_type": "execute_result",
          "data": {
            "text/plain": [
              "list"
            ]
          },
          "metadata": {
            "tags": []
          },
          "execution_count": 11
        }
      ]
    },
    {
      "cell_type": "code",
      "metadata": {
        "id": "Iw9U0rTs3HA5",
        "colab_type": "code",
        "outputId": "816e590c-3a86-49dc-bd4c-bca305388364",
        "colab": {
          "base_uri": "https://localhost:8080/",
          "height": 34
        }
      },
      "source": [
        "len(locations)\n"
      ],
      "execution_count": 12,
      "outputs": [
        {
          "output_type": "execute_result",
          "data": {
            "text/plain": [
              "264"
            ]
          },
          "metadata": {
            "tags": []
          },
          "execution_count": 12
        }
      ]
    },
    {
      "cell_type": "code",
      "metadata": {
        "id": "C6pd6Dka3eBR",
        "colab_type": "code",
        "outputId": "ea026347-2933-43e6-bf57-3f3a10b789d3",
        "colab": {
          "base_uri": "https://localhost:8080/",
          "height": 34
        }
      },
      "source": [
        "type(locations[0])"
      ],
      "execution_count": 13,
      "outputs": [
        {
          "output_type": "execute_result",
          "data": {
            "text/plain": [
              "dict"
            ]
          },
          "metadata": {
            "tags": []
          },
          "execution_count": 13
        }
      ]
    },
    {
      "cell_type": "code",
      "metadata": {
        "id": "-HykR0WZ6EkR",
        "colab_type": "code",
        "outputId": "a4a11849-0aa6-47b7-c499-e79df26f5654",
        "colab": {
          "base_uri": "https://localhost:8080/",
          "height": 34
        }
      },
      "source": [
        "locations[0].keys()"
      ],
      "execution_count": 14,
      "outputs": [
        {
          "output_type": "execute_result",
          "data": {
            "text/plain": [
              "dict_keys(['id', 'country', 'country_code', 'country_population', 'province', 'last_updated', 'coordinates', 'latest', 'timelines'])"
            ]
          },
          "metadata": {
            "tags": []
          },
          "execution_count": 14
        }
      ]
    },
    {
      "cell_type": "code",
      "metadata": {
        "id": "xV_z2gDa61Oa",
        "colab_type": "code",
        "outputId": "1a2902f7-c2d8-4a4e-d08b-bc0bbf9d63ea",
        "colab": {
          "base_uri": "https://localhost:8080/",
          "height": 394
        }
      },
      "source": [
        "\n",
        "n=131\n",
        "locations[n]['last_updated']\n",
        "\n",
        "for key in locations[n].keys():\n",
        "  print(key + \" : \" + str(locations[n][key]))\n",
        "\n",
        "print(\"Next\")\n",
        "len(locations[n]['timelines'])\n",
        "print(\"locations keys: \") ; print( locations[n]['timelines'].keys() )\n",
        "print(\"timeline - confirmed : \" ); print(len(locations[n]['timelines']['confirmed']) )\n",
        "print(\"timeline - confirmed - keys :\" ) ; print(locations[n]['timelines']['confirmed'].keys())\n",
        "print(\"Next2\")\n",
        "print(type(locations[n]['timelines']['confirmed']['latest']))\n",
        "print(type(locations[n]['timelines']['confirmed']['timeline']))\n",
        "\n",
        "print(\"timeline-confirmed-timeline-keys\") ; print(locations[n]['timelines']['confirmed']['timeline'].keys())\n",
        "\n",
        "#for k,v in locations[n]['timelines']['confirmed']['timeline']:\n",
        "  \n",
        "\n"
      ],
      "execution_count": 16,
      "outputs": [
        {
          "output_type": "stream",
          "text": [
            "id : 131\n",
            "country : India\n",
            "country_code : IN\n",
            "country_population : 1173108018\n",
            "province : \n",
            "last_updated : 2020-04-12T18:00:47.134454Z\n",
            "coordinates : {'latitude': '21.0', 'longitude': '78.0'}\n",
            "latest : {'confirmed': 8446, 'deaths': 288, 'recovered': 0}\n",
            "timelines : {'confirmed': {'latest': 8446, 'timeline': {'2020-01-22T00:00:00Z': 0, '2020-01-23T00:00:00Z': 0, '2020-01-24T00:00:00Z': 0, '2020-01-25T00:00:00Z': 0, '2020-01-26T00:00:00Z': 0, '2020-01-27T00:00:00Z': 0, '2020-01-28T00:00:00Z': 0, '2020-01-29T00:00:00Z': 0, '2020-01-30T00:00:00Z': 1, '2020-01-31T00:00:00Z': 1, '2020-02-01T00:00:00Z': 1, '2020-02-02T00:00:00Z': 2, '2020-02-03T00:00:00Z': 3, '2020-02-04T00:00:00Z': 3, '2020-02-05T00:00:00Z': 3, '2020-02-06T00:00:00Z': 3, '2020-02-07T00:00:00Z': 3, '2020-02-08T00:00:00Z': 3, '2020-02-09T00:00:00Z': 3, '2020-02-10T00:00:00Z': 3, '2020-02-11T00:00:00Z': 3, '2020-02-12T00:00:00Z': 3, '2020-02-13T00:00:00Z': 3, '2020-02-14T00:00:00Z': 3, '2020-02-15T00:00:00Z': 3, '2020-02-16T00:00:00Z': 3, '2020-02-17T00:00:00Z': 3, '2020-02-18T00:00:00Z': 3, '2020-02-19T00:00:00Z': 3, '2020-02-20T00:00:00Z': 3, '2020-02-21T00:00:00Z': 3, '2020-02-22T00:00:00Z': 3, '2020-02-23T00:00:00Z': 3, '2020-02-24T00:00:00Z': 3, '2020-02-25T00:00:00Z': 3, '2020-02-26T00:00:00Z': 3, '2020-02-27T00:00:00Z': 3, '2020-02-28T00:00:00Z': 3, '2020-02-29T00:00:00Z': 3, '2020-03-01T00:00:00Z': 3, '2020-03-02T00:00:00Z': 5, '2020-03-03T00:00:00Z': 5, '2020-03-04T00:00:00Z': 28, '2020-03-05T00:00:00Z': 30, '2020-03-06T00:00:00Z': 31, '2020-03-07T00:00:00Z': 34, '2020-03-08T00:00:00Z': 39, '2020-03-09T00:00:00Z': 43, '2020-03-10T00:00:00Z': 56, '2020-03-11T00:00:00Z': 62, '2020-03-12T00:00:00Z': 73, '2020-03-13T00:00:00Z': 82, '2020-03-14T00:00:00Z': 102, '2020-03-15T00:00:00Z': 113, '2020-03-16T00:00:00Z': 119, '2020-03-17T00:00:00Z': 142, '2020-03-18T00:00:00Z': 156, '2020-03-19T00:00:00Z': 194, '2020-03-20T00:00:00Z': 244, '2020-03-21T00:00:00Z': 330, '2020-03-22T00:00:00Z': 396, '2020-03-23T00:00:00Z': 499, '2020-03-24T00:00:00Z': 536, '2020-03-25T00:00:00Z': 657, '2020-03-26T00:00:00Z': 727, '2020-03-27T00:00:00Z': 887, '2020-03-28T00:00:00Z': 987, '2020-03-29T00:00:00Z': 1024, '2020-03-30T00:00:00Z': 1251, '2020-03-31T00:00:00Z': 1397, '2020-04-01T00:00:00Z': 1998, '2020-04-02T00:00:00Z': 2543, '2020-04-03T00:00:00Z': 2567, '2020-04-04T00:00:00Z': 3082, '2020-04-05T00:00:00Z': 3588, '2020-04-06T00:00:00Z': 4778, '2020-04-07T00:00:00Z': 5311, '2020-04-08T00:00:00Z': 5916, '2020-04-09T00:00:00Z': 6725, '2020-04-10T00:00:00Z': 7598, '2020-04-11T00:00:00Z': 8446}}, 'deaths': {'latest': 288, 'timeline': {'2020-01-22T00:00:00Z': 0, '2020-01-23T00:00:00Z': 0, '2020-01-24T00:00:00Z': 0, '2020-01-25T00:00:00Z': 0, '2020-01-26T00:00:00Z': 0, '2020-01-27T00:00:00Z': 0, '2020-01-28T00:00:00Z': 0, '2020-01-29T00:00:00Z': 0, '2020-01-30T00:00:00Z': 0, '2020-01-31T00:00:00Z': 0, '2020-02-01T00:00:00Z': 0, '2020-02-02T00:00:00Z': 0, '2020-02-03T00:00:00Z': 0, '2020-02-04T00:00:00Z': 0, '2020-02-05T00:00:00Z': 0, '2020-02-06T00:00:00Z': 0, '2020-02-07T00:00:00Z': 0, '2020-02-08T00:00:00Z': 0, '2020-02-09T00:00:00Z': 0, '2020-02-10T00:00:00Z': 0, '2020-02-11T00:00:00Z': 0, '2020-02-12T00:00:00Z': 0, '2020-02-13T00:00:00Z': 0, '2020-02-14T00:00:00Z': 0, '2020-02-15T00:00:00Z': 0, '2020-02-16T00:00:00Z': 0, '2020-02-17T00:00:00Z': 0, '2020-02-18T00:00:00Z': 0, '2020-02-19T00:00:00Z': 0, '2020-02-20T00:00:00Z': 0, '2020-02-21T00:00:00Z': 0, '2020-02-22T00:00:00Z': 0, '2020-02-23T00:00:00Z': 0, '2020-02-24T00:00:00Z': 0, '2020-02-25T00:00:00Z': 0, '2020-02-26T00:00:00Z': 0, '2020-02-27T00:00:00Z': 0, '2020-02-28T00:00:00Z': 0, '2020-02-29T00:00:00Z': 0, '2020-03-01T00:00:00Z': 0, '2020-03-02T00:00:00Z': 0, '2020-03-03T00:00:00Z': 0, '2020-03-04T00:00:00Z': 0, '2020-03-05T00:00:00Z': 0, '2020-03-06T00:00:00Z': 0, '2020-03-07T00:00:00Z': 0, '2020-03-08T00:00:00Z': 0, '2020-03-09T00:00:00Z': 0, '2020-03-10T00:00:00Z': 0, '2020-03-11T00:00:00Z': 1, '2020-03-12T00:00:00Z': 1, '2020-03-13T00:00:00Z': 2, '2020-03-14T00:00:00Z': 2, '2020-03-15T00:00:00Z': 2, '2020-03-16T00:00:00Z': 2, '2020-03-17T00:00:00Z': 3, '2020-03-18T00:00:00Z': 3, '2020-03-19T00:00:00Z': 4, '2020-03-20T00:00:00Z': 5, '2020-03-21T00:00:00Z': 4, '2020-03-22T00:00:00Z': 7, '2020-03-23T00:00:00Z': 10, '2020-03-24T00:00:00Z': 10, '2020-03-25T00:00:00Z': 12, '2020-03-26T00:00:00Z': 20, '2020-03-27T00:00:00Z': 20, '2020-03-28T00:00:00Z': 24, '2020-03-29T00:00:00Z': 27, '2020-03-30T00:00:00Z': 32, '2020-03-31T00:00:00Z': 35, '2020-04-01T00:00:00Z': 58, '2020-04-02T00:00:00Z': 72, '2020-04-03T00:00:00Z': 72, '2020-04-04T00:00:00Z': 86, '2020-04-05T00:00:00Z': 99, '2020-04-06T00:00:00Z': 136, '2020-04-07T00:00:00Z': 150, '2020-04-08T00:00:00Z': 178, '2020-04-09T00:00:00Z': 226, '2020-04-10T00:00:00Z': 246, '2020-04-11T00:00:00Z': 288}}, 'recovered': {'latest': 0, 'timeline': {}}}\n",
            "Next\n",
            "locations keys: \n",
            "dict_keys(['confirmed', 'deaths', 'recovered'])\n",
            "timeline - confirmed : \n",
            "2\n",
            "timeline - confirmed - keys :\n",
            "dict_keys(['latest', 'timeline'])\n",
            "Next2\n",
            "<class 'int'>\n",
            "<class 'dict'>\n",
            "timeline-confirmed-timeline-keys\n",
            "dict_keys(['2020-01-22T00:00:00Z', '2020-01-23T00:00:00Z', '2020-01-24T00:00:00Z', '2020-01-25T00:00:00Z', '2020-01-26T00:00:00Z', '2020-01-27T00:00:00Z', '2020-01-28T00:00:00Z', '2020-01-29T00:00:00Z', '2020-01-30T00:00:00Z', '2020-01-31T00:00:00Z', '2020-02-01T00:00:00Z', '2020-02-02T00:00:00Z', '2020-02-03T00:00:00Z', '2020-02-04T00:00:00Z', '2020-02-05T00:00:00Z', '2020-02-06T00:00:00Z', '2020-02-07T00:00:00Z', '2020-02-08T00:00:00Z', '2020-02-09T00:00:00Z', '2020-02-10T00:00:00Z', '2020-02-11T00:00:00Z', '2020-02-12T00:00:00Z', '2020-02-13T00:00:00Z', '2020-02-14T00:00:00Z', '2020-02-15T00:00:00Z', '2020-02-16T00:00:00Z', '2020-02-17T00:00:00Z', '2020-02-18T00:00:00Z', '2020-02-19T00:00:00Z', '2020-02-20T00:00:00Z', '2020-02-21T00:00:00Z', '2020-02-22T00:00:00Z', '2020-02-23T00:00:00Z', '2020-02-24T00:00:00Z', '2020-02-25T00:00:00Z', '2020-02-26T00:00:00Z', '2020-02-27T00:00:00Z', '2020-02-28T00:00:00Z', '2020-02-29T00:00:00Z', '2020-03-01T00:00:00Z', '2020-03-02T00:00:00Z', '2020-03-03T00:00:00Z', '2020-03-04T00:00:00Z', '2020-03-05T00:00:00Z', '2020-03-06T00:00:00Z', '2020-03-07T00:00:00Z', '2020-03-08T00:00:00Z', '2020-03-09T00:00:00Z', '2020-03-10T00:00:00Z', '2020-03-11T00:00:00Z', '2020-03-12T00:00:00Z', '2020-03-13T00:00:00Z', '2020-03-14T00:00:00Z', '2020-03-15T00:00:00Z', '2020-03-16T00:00:00Z', '2020-03-17T00:00:00Z', '2020-03-18T00:00:00Z', '2020-03-19T00:00:00Z', '2020-03-20T00:00:00Z', '2020-03-21T00:00:00Z', '2020-03-22T00:00:00Z', '2020-03-23T00:00:00Z', '2020-03-24T00:00:00Z', '2020-03-25T00:00:00Z', '2020-03-26T00:00:00Z', '2020-03-27T00:00:00Z', '2020-03-28T00:00:00Z', '2020-03-29T00:00:00Z', '2020-03-30T00:00:00Z', '2020-03-31T00:00:00Z', '2020-04-01T00:00:00Z', '2020-04-02T00:00:00Z', '2020-04-03T00:00:00Z', '2020-04-04T00:00:00Z', '2020-04-05T00:00:00Z', '2020-04-06T00:00:00Z', '2020-04-07T00:00:00Z', '2020-04-08T00:00:00Z', '2020-04-09T00:00:00Z', '2020-04-10T00:00:00Z', '2020-04-11T00:00:00Z'])\n"
          ],
          "name": "stdout"
        }
      ]
    },
    {
      "cell_type": "code",
      "metadata": {
        "id": "BNMdhepc7hOM",
        "colab_type": "code",
        "outputId": "85aeac42-5ee2-40ca-e59a-a1796770adfd",
        "colab": {
          "base_uri": "https://localhost:8080/",
          "height": 34
        }
      },
      "source": [
        "\n",
        "print(len(locations[n]['timelines']['confirmed']['timeline']))\n"
      ],
      "execution_count": 17,
      "outputs": [
        {
          "output_type": "stream",
          "text": [
            "81\n"
          ],
          "name": "stdout"
        }
      ]
    },
    {
      "cell_type": "code",
      "metadata": {
        "id": "3rXXPMDE8iuf",
        "colab_type": "code",
        "outputId": "fc98590c-1b02-4a02-c1e0-52c158f13d70",
        "colab": {
          "base_uri": "https://localhost:8080/",
          "height": 54
        }
      },
      "source": [
        "print((locations[n]['timelines']['confirmed']['timeline'].keys()))\n"
      ],
      "execution_count": 18,
      "outputs": [
        {
          "output_type": "stream",
          "text": [
            "dict_keys(['2020-01-22T00:00:00Z', '2020-01-23T00:00:00Z', '2020-01-24T00:00:00Z', '2020-01-25T00:00:00Z', '2020-01-26T00:00:00Z', '2020-01-27T00:00:00Z', '2020-01-28T00:00:00Z', '2020-01-29T00:00:00Z', '2020-01-30T00:00:00Z', '2020-01-31T00:00:00Z', '2020-02-01T00:00:00Z', '2020-02-02T00:00:00Z', '2020-02-03T00:00:00Z', '2020-02-04T00:00:00Z', '2020-02-05T00:00:00Z', '2020-02-06T00:00:00Z', '2020-02-07T00:00:00Z', '2020-02-08T00:00:00Z', '2020-02-09T00:00:00Z', '2020-02-10T00:00:00Z', '2020-02-11T00:00:00Z', '2020-02-12T00:00:00Z', '2020-02-13T00:00:00Z', '2020-02-14T00:00:00Z', '2020-02-15T00:00:00Z', '2020-02-16T00:00:00Z', '2020-02-17T00:00:00Z', '2020-02-18T00:00:00Z', '2020-02-19T00:00:00Z', '2020-02-20T00:00:00Z', '2020-02-21T00:00:00Z', '2020-02-22T00:00:00Z', '2020-02-23T00:00:00Z', '2020-02-24T00:00:00Z', '2020-02-25T00:00:00Z', '2020-02-26T00:00:00Z', '2020-02-27T00:00:00Z', '2020-02-28T00:00:00Z', '2020-02-29T00:00:00Z', '2020-03-01T00:00:00Z', '2020-03-02T00:00:00Z', '2020-03-03T00:00:00Z', '2020-03-04T00:00:00Z', '2020-03-05T00:00:00Z', '2020-03-06T00:00:00Z', '2020-03-07T00:00:00Z', '2020-03-08T00:00:00Z', '2020-03-09T00:00:00Z', '2020-03-10T00:00:00Z', '2020-03-11T00:00:00Z', '2020-03-12T00:00:00Z', '2020-03-13T00:00:00Z', '2020-03-14T00:00:00Z', '2020-03-15T00:00:00Z', '2020-03-16T00:00:00Z', '2020-03-17T00:00:00Z', '2020-03-18T00:00:00Z', '2020-03-19T00:00:00Z', '2020-03-20T00:00:00Z', '2020-03-21T00:00:00Z', '2020-03-22T00:00:00Z', '2020-03-23T00:00:00Z', '2020-03-24T00:00:00Z', '2020-03-25T00:00:00Z', '2020-03-26T00:00:00Z', '2020-03-27T00:00:00Z', '2020-03-28T00:00:00Z', '2020-03-29T00:00:00Z', '2020-03-30T00:00:00Z', '2020-03-31T00:00:00Z', '2020-04-01T00:00:00Z', '2020-04-02T00:00:00Z', '2020-04-03T00:00:00Z', '2020-04-04T00:00:00Z', '2020-04-05T00:00:00Z', '2020-04-06T00:00:00Z', '2020-04-07T00:00:00Z', '2020-04-08T00:00:00Z', '2020-04-09T00:00:00Z', '2020-04-10T00:00:00Z', '2020-04-11T00:00:00Z'])\n"
          ],
          "name": "stdout"
        }
      ]
    },
    {
      "cell_type": "markdown",
      "metadata": {
        "id": "3kCI-WAZP7RT",
        "colab_type": "text"
      },
      "source": [
        " ------  Option - 2 <br>  Here we are trying to work on limited data, altervatively"
      ]
    },
    {
      "cell_type": "code",
      "metadata": {
        "id": "39Pmtn2LfAkF",
        "colab_type": "code",
        "colab": {}
      },
      "source": [
        "limitedData = covid.getLocationByCountryCode('IN')"
      ],
      "execution_count": 0,
      "outputs": []
    },
    {
      "cell_type": "code",
      "metadata": {
        "id": "WecSBXkRfGBo",
        "colab_type": "code",
        "outputId": "56b8ade2-944b-4e60-fef1-bdce4c0f8ce5",
        "colab": {
          "base_uri": "https://localhost:8080/",
          "height": 34
        }
      },
      "source": [
        "type(limitedData)"
      ],
      "execution_count": 20,
      "outputs": [
        {
          "output_type": "execute_result",
          "data": {
            "text/plain": [
              "list"
            ]
          },
          "metadata": {
            "tags": []
          },
          "execution_count": 20
        }
      ]
    },
    {
      "cell_type": "code",
      "metadata": {
        "id": "vTvN7KVLh_fQ",
        "colab_type": "code",
        "outputId": "1e168495-d27a-4f2a-f54b-40aa18fae5ed",
        "colab": {
          "base_uri": "https://localhost:8080/",
          "height": 34
        }
      },
      "source": [
        "len(limitedData)"
      ],
      "execution_count": 21,
      "outputs": [
        {
          "output_type": "execute_result",
          "data": {
            "text/plain": [
              "1"
            ]
          },
          "metadata": {
            "tags": []
          },
          "execution_count": 21
        }
      ]
    },
    {
      "cell_type": "code",
      "metadata": {
        "id": "ZY9emc6hiDZz",
        "colab_type": "code",
        "outputId": "4f43a135-f7e0-4119-e033-d569a0a6531c",
        "colab": {
          "base_uri": "https://localhost:8080/",
          "height": 153
        }
      },
      "source": [
        "limitedData\n"
      ],
      "execution_count": 22,
      "outputs": [
        {
          "output_type": "execute_result",
          "data": {
            "text/plain": [
              "[{'coordinates': {'latitude': '21.0', 'longitude': '78.0'},\n",
              "  'country': 'India',\n",
              "  'country_code': 'IN',\n",
              "  'country_population': 1173108018,\n",
              "  'id': 131,\n",
              "  'last_updated': '2020-04-12T18:00:47.134454Z',\n",
              "  'latest': {'confirmed': 8446, 'deaths': 288, 'recovered': 0},\n",
              "  'province': ''}]"
            ]
          },
          "metadata": {
            "tags": []
          },
          "execution_count": 22
        }
      ]
    },
    {
      "cell_type": "code",
      "metadata": {
        "id": "_NhwcY_TiGfN",
        "colab_type": "code",
        "outputId": "59a67d3e-ba61-45de-ea76-dc4bd6d31025",
        "colab": {
          "base_uri": "https://localhost:8080/",
          "height": 34
        }
      },
      "source": [
        "type(limitedData[0])\n",
        "\n",
        "len(limitedData[0])\n",
        "\n",
        "a = limitedData[0]\n",
        "a.keys()"
      ],
      "execution_count": 23,
      "outputs": [
        {
          "output_type": "execute_result",
          "data": {
            "text/plain": [
              "dict_keys(['id', 'country', 'country_code', 'country_population', 'province', 'last_updated', 'coordinates', 'latest'])"
            ]
          },
          "metadata": {
            "tags": []
          },
          "execution_count": 23
        }
      ]
    },
    {
      "cell_type": "code",
      "metadata": {
        "id": "BZiiCznziSv_",
        "colab_type": "code",
        "outputId": "ced499e4-9d54-4331-a056-977de30ff414",
        "colab": {
          "base_uri": "https://localhost:8080/",
          "height": 34
        }
      },
      "source": [
        "a['latest']"
      ],
      "execution_count": 24,
      "outputs": [
        {
          "output_type": "execute_result",
          "data": {
            "text/plain": [
              "{'confirmed': 8446, 'deaths': 288, 'recovered': 0}"
            ]
          },
          "metadata": {
            "tags": []
          },
          "execution_count": 24
        }
      ]
    },
    {
      "cell_type": "code",
      "metadata": {
        "id": "1-22LbNHip5A",
        "colab_type": "code",
        "outputId": "12cd43d4-df7a-4166-dda3-d322ed492ba8",
        "colab": {
          "base_uri": "https://localhost:8080/",
          "height": 153
        }
      },
      "source": [
        "n=0\n",
        "for item in a.keys():\n",
        "  #lst[n] = \n",
        "  print(str(item) + ' : '+str(a[item]))\n",
        "  n+=1\n"
      ],
      "execution_count": 25,
      "outputs": [
        {
          "output_type": "stream",
          "text": [
            "id : 131\n",
            "country : India\n",
            "country_code : IN\n",
            "country_population : 1173108018\n",
            "province : \n",
            "last_updated : 2020-04-12T18:00:47.134454Z\n",
            "coordinates : {'latitude': '21.0', 'longitude': '78.0'}\n",
            "latest : {'confirmed': 8446, 'deaths': 288, 'recovered': 0}\n"
          ],
          "name": "stdout"
        }
      ]
    },
    {
      "cell_type": "code",
      "metadata": {
        "id": "gI63KlGdPzUp",
        "colab_type": "code",
        "colab": {}
      },
      "source": [
        "def extract_text(obj, acc):\n",
        "    ...:     if isinstance(obj, dict):\n",
        "    ...:         for k, v in obj.items():\n",
        "    ...:             if isinstance(v, (dict, list)):\n",
        "    ...:                 extract_text(v, acc)\n",
        "    ...:             elif k == \"text\":\n",
        "    ...:                 acc.append(v)\n",
        "    ...:     elif isinstance(obj, list):\n",
        "    ...:         for item in obj:\n",
        "    ...:             extract_text(item, acc)"
      ],
      "execution_count": 0,
      "outputs": []
    },
    {
      "cell_type": "code",
      "metadata": {
        "id": "00qATBGp3nPK",
        "colab_type": "code",
        "colab": {}
      },
      "source": [
        "t1 = []\n",
        "extract_text(a,t1)"
      ],
      "execution_count": 0,
      "outputs": []
    },
    {
      "cell_type": "code",
      "metadata": {
        "id": "HVr1eM9a6-fK",
        "colab_type": "code",
        "outputId": "b27175dc-0207-47ba-bc20-4fb8eee6fe23",
        "colab": {
          "base_uri": "https://localhost:8080/",
          "height": 34
        }
      },
      "source": [
        "t1"
      ],
      "execution_count": 28,
      "outputs": [
        {
          "output_type": "execute_result",
          "data": {
            "text/plain": [
              "[]"
            ]
          },
          "metadata": {
            "tags": []
          },
          "execution_count": 28
        }
      ]
    },
    {
      "cell_type": "code",
      "metadata": {
        "id": "_-PN895n7BUn",
        "colab_type": "code",
        "colab": {}
      },
      "source": [
        ""
      ],
      "execution_count": 0,
      "outputs": []
    }
  ]
}