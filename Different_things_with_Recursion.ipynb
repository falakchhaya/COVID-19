{
  "nbformat": 4,
  "nbformat_minor": 0,
  "metadata": {
    "colab": {
      "name": "Different things with Recursion.ipynb",
      "provenance": [],
      "collapsed_sections": [],
      "authorship_tag": "ABX9TyPzHQFXTOBXm0Fs/ojrTMjc",
      "include_colab_link": true
    },
    "kernelspec": {
      "name": "python3",
      "display_name": "Python 3"
    }
  },
  "cells": [
    {
      "cell_type": "markdown",
      "metadata": {
        "id": "view-in-github",
        "colab_type": "text"
      },
      "source": [
        "<a href=\"https://colab.research.google.com/github/falakchhaya/COVID-19/blob/master/Different_things_with_Recursion.ipynb\" target=\"_parent\"><img src=\"https://colab.research.google.com/assets/colab-badge.svg\" alt=\"Open In Colab\"/></a>"
      ]
    },
    {
      "cell_type": "markdown",
      "metadata": {
        "id": "0fg6dy-4Cnxm"
      },
      "source": [
        ""
      ]
    },
    {
      "cell_type": "markdown",
      "metadata": {
        "id": "ovXSKTmJCqym"
      },
      "source": [
        "##Various trials on resursion for practise##"
      ]
    },
    {
      "cell_type": "markdown",
      "metadata": {
        "id": "pYmAY2hnC2Qk"
      },
      "source": [
        "How to find the sum of digits of a positive integer number <br>\r\n",
        "\r\n",
        "There are two ways we can do it. Recursive and Iterative.\r\n",
        "Let's try to time them as well. <br>\r\n",
        "\r\n",
        "Recursive <br>\r\n",
        "-- Get the number<br>\r\n",
        "-- divide the number (and subsequently the quotient) by 10 by calling the same fn till the division<10. (**division < 10** is the condition to break it) <br>\r\n",
        "-- at each step of division add remainder to the sum(target variable). Add the last quotient (the one <10) to the sum as well. <br>\r\n",
        "----- (1) Fn - divide the num by 10, keep adding remainder to the sum<br>\r\n",
        "----- (2) **Breaking Condition - quotient<10**, then add the quotient to the sum as well <br>\r\n",
        "----- (3) Constraint - the number is positive integer. Though this can be handeled for negative integers as well by taking absolute value. <br>"
      ]
    },
    {
      "cell_type": "code",
      "metadata": {
        "id": "CdeLXnsjIfOl",
        "colab": {
          "base_uri": "https://localhost:8080/"
        },
        "outputId": "af9b9d55-b105-47d7-b699-fbf02793a1cd"
      },
      "source": [
        "#### Recursion\r\n",
        "#insert the positive integer number of interest\r\n",
        "number = 10\r\n",
        "sum=0 #Target variable - sum of the digits of n\r\n",
        "\r\n",
        "def sumOfDigits(n):\r\n",
        "\r\n",
        "  #constraint\r\n",
        "  assert n>0 and isinstance(n,int), 'Kya karte ji! The number has to be positive integer'\r\n",
        "\r\n",
        "  #Condition\r\n",
        "  if n<10:\r\n",
        "    return n\r\n",
        "\r\n",
        "  else:\r\n",
        "    quotient = n // 10\r\n",
        "    remainder = n % 10\r\n",
        "    s = sumOfDigits(quotient)\r\n",
        "    sum = s + remainder\r\n",
        "    return sum\r\n",
        "\r\n",
        "print(sumOfDigits(number))"
      ],
      "execution_count": null,
      "outputs": [
        {
          "output_type": "stream",
          "text": [
            "1\n"
          ],
          "name": "stdout"
        }
      ]
    },
    {
      "cell_type": "code",
      "metadata": {
        "id": "kq069WAUevpq",
        "colab": {
          "base_uri": "https://localhost:8080/"
        },
        "outputId": "200b6efe-3535-4dd8-f599-b72443165d2d"
      },
      "source": [
        "### Iterative version of the same code\r\n",
        "### Problem Statement, again, find the sum of digits of a positive integer number.\r\n",
        "\r\n",
        "#insert the positive integer of which you want to find the sum of digits.\r\n",
        "n=24\r\n",
        "\r\n",
        "#new copy so that we can retrieve the original one\r\n",
        "number=n\r\n",
        "\r\n",
        "def SumOfDigitsIter(n):\r\n",
        "\r\n",
        "  #constraint\r\n",
        "  assert n>0 and isinstance(n,int), 'Kya karte ji! The number has to be positive integer'\r\n",
        "\r\n",
        "  sum=0\r\n",
        "  quotient = n//10\r\n",
        "  remainder = n % 10\r\n",
        "  # print(n, quotient, remainder, sum)  \r\n",
        "\r\n",
        "  while (n >= 10):    \r\n",
        "    sum = sum + remainder  \r\n",
        "    # print(n, quotient, remainder, sum)  \r\n",
        "\r\n",
        "    n = quotient   # updating the variable\r\n",
        "    quotient = n//10\r\n",
        "    remainder = n % 10\r\n",
        "\r\n",
        "  sum = sum + remainder   ## This is updated n which is the final quotient, just for note.\r\n",
        "\r\n",
        "  print(sum)\r\n",
        "\r\n",
        "SumOfDigitsIter(n)\r\n"
      ],
      "execution_count": null,
      "outputs": [
        {
          "output_type": "stream",
          "text": [
            "11\n"
          ],
          "name": "stdout"
        }
      ]
    },
    {
      "cell_type": "markdown",
      "metadata": {
        "id": "fBTXZB2LgYk9"
      },
      "source": [
        ""
      ]
    },
    {
      "cell_type": "code",
      "metadata": {
        "id": "Hm8zX-07-QyW"
      },
      "source": [
        "######## some experiments show that integers are immutable. \r\n",
        "#### While for lists and other objects one has to create explilcit copies if one doesn't want to change the original object\r\n",
        "a = 9\r\n",
        "b=a\r\n",
        "print(b)\r\n",
        "a=11\r\n",
        "print(a,b)\r\n",
        "\r\n",
        "b=10\r\n",
        "print(a,b)"
      ],
      "execution_count": null,
      "outputs": []
    },
    {
      "cell_type": "markdown",
      "metadata": {
        "id": "BXMGyJc2Ewdm"
      },
      "source": [
        "## Problem Statement 2: Find power of a number.\r\n"
      ]
    },
    {
      "cell_type": "markdown",
      "metadata": {
        "id": "epK-5dZOEwCF"
      },
      "source": [
        ""
      ]
    },
    {
      "cell_type": "code",
      "metadata": {
        "colab": {
          "base_uri": "https://localhost:8080/"
        },
        "id": "BFBN_d6R-RwL",
        "outputId": "ec1b9ed5-b3db-4fb7-a0e1-5dad1a45e237"
      },
      "source": [
        "## Recursion method first \r\n",
        "\r\n",
        "#insert base number and power.\r\n",
        "n=-2\r\n",
        "p=9\r\n",
        "\r\n",
        "def NraisedtoP(n,p):\r\n",
        "  \r\n",
        "  assert p>=0 and isinstance(p,int), 'Kya karte ji! The number has to be non-negative integer'\r\n",
        "\r\n",
        "  if p==2:\r\n",
        "    return(n*n)\r\n",
        "  elif p==1:\r\n",
        "    return(n)\r\n",
        "  elif p==0:\r\n",
        "    return(1)\r\n",
        "  return(n* NraisedtoP(n,p-1))\r\n",
        "\r\n",
        "result =NraisedtoP(n,p)\r\n",
        "print(result)  \r\n"
      ],
      "execution_count": null,
      "outputs": [
        {
          "output_type": "stream",
          "text": [
            "-512\n"
          ],
          "name": "stdout"
        }
      ]
    },
    {
      "cell_type": "code",
      "metadata": {
        "colab": {
          "base_uri": "https://localhost:8080/"
        },
        "id": "EENS2v_PDmB7",
        "outputId": "49a904a3-d286-4455-b58a-41435d811e61"
      },
      "source": [
        "## Let's get the iterative version of this\r\n",
        "\r\n",
        "## insert the base number and power\r\n",
        "n=-3\r\n",
        "p=6\r\n",
        "\r\n",
        "def nRaisedtoPiter(n,p):\r\n",
        "  assert p>=0 and isinstance(p,int), 'Kya karte ji! The number has to be non-negative integer'\r\n",
        "  result=n\r\n",
        "\r\n",
        "  for i in range(p-1):\r\n",
        "    result = result*n\r\n",
        "  if p==0:\r\n",
        "    result=1\r\n",
        "\r\n",
        "  return(result)\r\n",
        "\r\n",
        "nRaisedtoPiter(n,p)"
      ],
      "execution_count": null,
      "outputs": [
        {
          "output_type": "execute_result",
          "data": {
            "text/plain": [
              "729"
            ]
          },
          "metadata": {
            "tags": []
          },
          "execution_count": 78
        }
      ]
    },
    {
      "cell_type": "markdown",
      "metadata": {
        "id": "p0y7gvHb7z-9"
      },
      "source": [
        "Trying GCD Code now.\r\n",
        "\r\n",
        "find GCD of n1 and n2.<br>\r\n",
        "say n1 > n2 then<br>\r\n",
        "n1/n2 = a1, remainder b1 <br>\r\n",
        "n2/b1 = a2, remainder b2 <br>\r\n",
        "b1/b2 = a3, remainder b3  <br>\r\n",
        "b2/b3 ...\r\n",
        "whenever the denominator is zero, say b3=0 <br>\r\n",
        "then GCD between n1 and n2 is $b2$\r\n",
        "\r\n"
      ]
    },
    {
      "cell_type": "code",
      "metadata": {
        "colab": {
          "base_uri": "https://localhost:8080/"
        },
        "id": "XMERUww-7ysx",
        "outputId": "7489afce-942c-4adc-bd39-bd81624662b7"
      },
      "source": [
        "#Enter the two numbers\r\n",
        "n1=48\r\n",
        "n2=36\r\n",
        "\r\n",
        "### Always making n1>n2, for the sake of uniformity in the rest of the code\r\n",
        "if n2>n1:\r\n",
        "  n1,n2=n2,n1\r\n",
        "\r\n",
        "def gcd_rec(n1, n2):\r\n",
        "  if n2==0:\r\n",
        "    return (n1)\r\n",
        "  else: \r\n",
        "    return (gcd_rec(n2, n1%n2))\r\n",
        "  \r\n",
        "\r\n",
        "print(gcd_rec(n1,n2))"
      ],
      "execution_count": 17,
      "outputs": [
        {
          "output_type": "stream",
          "text": [
            "9\n"
          ],
          "name": "stdout"
        }
      ]
    },
    {
      "cell_type": "code",
      "metadata": {
        "id": "V-492wWpKuIE",
        "colab": {
          "base_uri": "https://localhost:8080/"
        },
        "outputId": "23a83e52-48f2-4b3b-bd5f-d3459247f2e5"
      },
      "source": [
        "### Let's try non-recursive approach\r\n",
        "#Enter the two numbers\r\n",
        "n1=30\r\n",
        "n2=35\r\n",
        "\r\n",
        "### Always making n1>n2, for the sake of uniformity in the rest of the code\r\n",
        "if n2>n1:\r\n",
        "  n1,n2=n2,n1\r\n",
        "\r\n",
        "def gcd_iter(n1,n2):\r\n",
        "\r\n",
        "  while True:\r\n",
        "    if n2==0:\r\n",
        "      return(n1)\r\n",
        "\r\n",
        "    r = n1%n2\r\n",
        "\r\n",
        "    n1=n2\r\n",
        "    n2=r\r\n",
        "\r\n",
        "print(gcd_iter(n1,n2))"
      ],
      "execution_count": 24,
      "outputs": [
        {
          "output_type": "stream",
          "text": [
            "5\n"
          ],
          "name": "stdout"
        }
      ]
    },
    {
      "cell_type": "markdown",
      "metadata": {
        "id": "ZKkeX8InXWfR"
      },
      "source": [
        "## Decimal to Binary ##\r\n",
        "\r\n",
        "\r\n",
        "Algo<br>\r\n",
        "Keep dividing the number/quotient till quotient is zero. <br>\r\n",
        "remainders in sequence, from latest(highest weighted) to oldest(lowest weighted) is the binary representation of the given decimal number."
      ]
    },
    {
      "cell_type": "code",
      "metadata": {
        "colab": {
          "base_uri": "https://localhost:8080/"
        },
        "id": "cjwldph7U4yY",
        "outputId": "2188f6e7-4e3c-4a15-f7c4-4670d92c45df"
      },
      "source": [
        "## decimal number \r\n",
        "a = 5\r\n",
        "\r\n",
        "def dec2bin_rec(a):\r\n",
        "\r\n",
        "  # print(a)\r\n",
        "  assert a>=0 and isinstance(a, int), 'non-negative integer hona bhai'\r\n",
        "\r\n",
        "  if a//2==0:  # they say a==0 aaega idhar. Effectively they are the same, phir bhi.\r\n",
        "    return(a%2)\r\n",
        "\r\n",
        "  return(a%2 + 10 * dec2bin_rec(int(a/2)))  # gajab hai ye.\r\n",
        "\r\n",
        "\r\n",
        "print(dec2bin_rec(a))\r\n"
      ],
      "execution_count": 51,
      "outputs": [
        {
          "output_type": "stream",
          "text": [
            "101\n"
          ],
          "name": "stdout"
        }
      ]
    },
    {
      "cell_type": "code",
      "metadata": {
        "colab": {
          "base_uri": "https://localhost:8080/"
        },
        "id": "qgL3oUpGlGGi",
        "outputId": "98864efe-27d3-4dda-c41b-916afe855e79"
      },
      "source": [
        "#### factorial\r\n",
        "def factorial(num):\r\n",
        "  assert isinstance(num, int) and num>=0,'non-negative integer hona ji'\r\n",
        "  if num==0 or num==1:\r\n",
        "    return(1)\r\n",
        "\r\n",
        "  return(num*factorial(num-1))\r\n",
        "\r\n",
        "print(factorial(5))"
      ],
      "execution_count": 72,
      "outputs": [
        {
          "output_type": "stream",
          "text": [
            "120\n"
          ],
          "name": "stdout"
        }
      ]
    },
    {
      "cell_type": "code",
      "metadata": {
        "colab": {
          "base_uri": "https://localhost:8080/"
        },
        "id": "GV2HQYeKnOTf",
        "outputId": "82bcbbcc-c4a2-492b-a866-02692ada34e5"
      },
      "source": [
        "# write a function that takes in an array of numbers and returns product of those all.\r\n",
        "\r\n",
        "def productOfArray(arr):\r\n",
        "  if arr==[]:\r\n",
        "    return 1\r\n",
        "  return(arr[0] * productOfArray(arr[1:]))\r\n",
        "\r\n",
        "print(productOfArray([3,2,2]))"
      ],
      "execution_count": 75,
      "outputs": [
        {
          "output_type": "stream",
          "text": [
            "12\n"
          ],
          "name": "stdout"
        }
      ]
    },
    {
      "cell_type": "code",
      "metadata": {
        "colab": {
          "base_uri": "https://localhost:8080/"
        },
        "id": "I_i59ks427Md",
        "outputId": "335ad644-20f9-46eb-b50f-e0279966a071"
      },
      "source": [
        "##### Fibonacci\r\n",
        "\r\n",
        "\r\n",
        "def fib(num):\r\n",
        "    if num==1:\r\n",
        "        return(0)\r\n",
        "    if num==2:\r\n",
        "        return(1)\r\n",
        "    return(fib(num-1) + fib(num-2))\r\n",
        "\r\n",
        "print(fib(4))"
      ],
      "execution_count": 82,
      "outputs": [
        {
          "output_type": "stream",
          "text": [
            "2\n"
          ],
          "name": "stdout"
        }
      ]
    },
    {
      "cell_type": "code",
      "metadata": {
        "id": "N6Md8fu0LpGU"
      },
      "source": [
        ""
      ],
      "execution_count": null,
      "outputs": []
    }
  ]
}